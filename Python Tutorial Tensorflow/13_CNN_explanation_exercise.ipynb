{
 "metadata": {
  "language_info": {
   "codemirror_mode": {
    "name": "ipython",
    "version": 3
   },
   "file_extension": ".py",
   "mimetype": "text/x-python",
   "name": "python",
   "nbconvert_exporter": "python",
   "pygments_lexer": "ipython3",
   "version": "3.8.5"
  },
  "orig_nbformat": 4,
  "kernelspec": {
   "name": "python3",
   "display_name": "Python 3.8.5 64-bit ('base': conda)"
  },
  "interpreter": {
   "hash": "ecf5722fdaf1897a315d257d89d94520bfcaa453217d5becf09b39e73618b0de"
  }
 },
 "nbformat": 4,
 "nbformat_minor": 2,
 "cells": [
  {
   "source": [
    "## ANN Cons:\n",
    "- ### Too much computation\n",
    "- ### Treats local pixels same as pixels far apart\n",
    "- ### Sensitive to location of an object in an image\n",
    "<br><br>\n",
    "\n",
    "## CNN Pros\n",
    "- ### Have neurons for each feature (nose, ears, hands, legs)\n",
    "- ### reduce overfitting\n",
    "- ### location invariant\n",
    "- ### Parameter sharing\n",
    "- ### Network will detect filters by it's own\n",
    "\n",
    "### Steps:\n",
    "\n",
    "<img src=\"https://i.imgur.com/REl4dWY.png\" width=700>\n",
    "\n",
    "<br><br>\n",
    "- ### Use filters (convolutional operation or kernal) to get a feature map (usually original data dimension - 2) using relu (making model non linear)\n",
    "<img src=\"https://i.imgur.com/kEMpNf3.png\" width=700>\n",
    "- ### Multiple smaller features represent a larger feature\n",
    "- ### Then flatten and join larger features to form a layer\n",
    "- ### Apply pooling to reduce computation/voverfitting/tolerance (max/average in a region) (stide=2 means kernal size is 2 x 2)\n",
    "<img src=\"https://i.imgur.com/1LzUnCU.png\" width=700>\n",
    "- ### Use data augmentation to generate new rotated samples from existing samples"
   ],
   "cell_type": "markdown",
   "metadata": {}
  },
  {
   "cell_type": "code",
   "execution_count": 1,
   "metadata": {},
   "outputs": [
    {
     "output_type": "execute_result",
     "data": {
      "text/plain": [
       "((50000, 32, 32, 3), array([6, 9, 9, 4, 1], dtype=uint8))"
      ]
     },
     "metadata": {},
     "execution_count": 1
    }
   ],
   "source": [
    "import numpy as np\n",
    "import pandas as pd\n",
    "import seaborn as sn\n",
    "import tensorflow as tf\n",
    "from tensorflow import keras\n",
    "from matplotlib import pyplot as plt\n",
    "from sklearn.preprocessing import MinMaxScaler\n",
    "from sklearn.model_selection import train_test_split\n",
    "from sklearn.metrics import confusion_matrix, classification_report\n",
    "%matplotlib inline\n",
    "\n",
    "# loading train test sets\n",
    "(X_train, y_train), (X_test, y_test) = keras.datasets.cifar10.load_data()\n",
    "\n",
    "# normalize image\n",
    "X_train = X_train / 255\n",
    "X_test = X_test / 255\n",
    "\n",
    "y_train = y_train.reshape(-1, ) # cvt y train to 1 dim array\n",
    "y_test = y_test.reshape(-1,)\n",
    "\n",
    "X_train.shape, y_train[:5]"
   ]
  },
  {
   "cell_type": "code",
   "execution_count": 2,
   "metadata": {},
   "outputs": [
    {
     "output_type": "execute_result",
     "data": {
      "text/plain": [
       "(None, None)"
      ]
     },
     "metadata": {},
     "execution_count": 2
    },
    {
     "output_type": "display_data",
     "data": {
      "text/plain": "<Figure size 1080x144 with 1 Axes>",
      "image/svg+xml": "<?xml version=\"1.0\" encoding=\"utf-8\" standalone=\"no\"?>\r\n<!DOCTYPE svg PUBLIC \"-//W3C//DTD SVG 1.1//EN\"\r\n  \"http://www.w3.org/Graphics/SVG/1.1/DTD/svg11.dtd\">\r\n<svg height=\"155.576719pt\" version=\"1.1\" viewBox=\"0 0 142.845 155.576719\" width=\"142.845pt\" xmlns=\"http://www.w3.org/2000/svg\" xmlns:xlink=\"http://www.w3.org/1999/xlink\">\r\n <metadata>\r\n  <rdf:RDF xmlns:cc=\"http://creativecommons.org/ns#\" xmlns:dc=\"http://purl.org/dc/elements/1.1/\" xmlns:rdf=\"http://www.w3.org/1999/02/22-rdf-syntax-ns#\">\r\n   <cc:Work>\r\n    <dc:type rdf:resource=\"http://purl.org/dc/dcmitype/StillImage\"/>\r\n    <dc:date>2021-06-23T22:22:23.063656</dc:date>\r\n    <dc:format>image/svg+xml</dc:format>\r\n    <dc:creator>\r\n     <cc:Agent>\r\n      <dc:title>Matplotlib v3.4.2, https://matplotlib.org/</dc:title>\r\n     </cc:Agent>\r\n    </dc:creator>\r\n   </cc:Work>\r\n  </rdf:RDF>\r\n </metadata>\r\n <defs>\r\n  <style type=\"text/css\">*{stroke-linecap:butt;stroke-linejoin:round;}</style>\r\n </defs>\r\n <g id=\"figure_1\">\r\n  <g id=\"patch_1\">\r\n   <path d=\"M 0 155.576719 \r\nL 142.845 155.576719 \r\nL 142.845 0 \r\nL 0 0 \r\nz\r\n\" style=\"fill:none;\"/>\r\n  </g>\r\n  <g id=\"axes_1\">\r\n   <g id=\"patch_2\">\r\n    <path d=\"M 26.925 118.020469 \r\nL 135.645 118.020469 \r\nL 135.645 9.300469 \r\nL 26.925 9.300469 \r\nz\r\n\" style=\"fill:#ffffff;\"/>\r\n   </g>\r\n   <g clip-path=\"url(#p89d82d3fef)\">\r\n    <image height=\"109\" id=\"imaged066061b93\" transform=\"scale(1 -1)translate(0 -109)\" width=\"109\" x=\"26.925\" xlink:href=\"data:image/png;base64,\r\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\" y=\"-9.020469\"/>\r\n   </g>\r\n   <g id=\"matplotlib.axis_1\">\r\n    <g id=\"xtick_1\">\r\n     <g id=\"line2d_1\">\r\n      <defs>\r\n       <path d=\"M 0 0 \r\nL 0 3.5 \r\n\" id=\"mcf8998044d\" style=\"stroke:#000000;stroke-width:0.8;\"/>\r\n      </defs>\r\n      <g>\r\n       <use style=\"stroke:#000000;stroke-width:0.8;\" x=\"28.62375\" xlink:href=\"#mcf8998044d\" y=\"118.020469\"/>\r\n      </g>\r\n     </g>\r\n     <g id=\"text_1\">\r\n      <!-- 0 -->\r\n      <g transform=\"translate(25.4425 132.618906)scale(0.1 -0.1)\">\r\n       <defs>\r\n        <path d=\"M 2034 4250 \r\nQ 1547 4250 1301 3770 \r\nQ 1056 3291 1056 2328 \r\nQ 1056 1369 1301 889 \r\nQ 1547 409 2034 409 \r\nQ 2525 409 2770 889 \r\nQ 3016 1369 3016 2328 \r\nQ 3016 3291 2770 3770 \r\nQ 2525 4250 2034 4250 \r\nz\r\nM 2034 4750 \r\nQ 2819 4750 3233 4129 \r\nQ 3647 3509 3647 2328 \r\nQ 3647 1150 3233 529 \r\nQ 2819 -91 2034 -91 \r\nQ 1250 -91 836 529 \r\nQ 422 1150 422 2328 \r\nQ 422 3509 836 4129 \r\nQ 1250 4750 2034 4750 \r\nz\r\n\" id=\"DejaVuSans-30\" transform=\"scale(0.015625)\"/>\r\n       </defs>\r\n       <use xlink:href=\"#DejaVuSans-30\"/>\r\n      </g>\r\n     </g>\r\n    </g>\r\n    <g id=\"xtick_2\">\r\n     <g id=\"line2d_2\">\r\n      <g>\r\n       <use style=\"stroke:#000000;stroke-width:0.8;\" x=\"96.57375\" xlink:href=\"#mcf8998044d\" y=\"118.020469\"/>\r\n      </g>\r\n     </g>\r\n     <g id=\"text_2\">\r\n      <!-- 20 -->\r\n      <g transform=\"translate(90.21125 132.618906)scale(0.1 -0.1)\">\r\n       <defs>\r\n        <path d=\"M 1228 531 \r\nL 3431 531 \r\nL 3431 0 \r\nL 469 0 \r\nL 469 531 \r\nQ 828 903 1448 1529 \r\nQ 2069 2156 2228 2338 \r\nQ 2531 2678 2651 2914 \r\nQ 2772 3150 2772 3378 \r\nQ 2772 3750 2511 3984 \r\nQ 2250 4219 1831 4219 \r\nQ 1534 4219 1204 4116 \r\nQ 875 4013 500 3803 \r\nL 500 4441 \r\nQ 881 4594 1212 4672 \r\nQ 1544 4750 1819 4750 \r\nQ 2544 4750 2975 4387 \r\nQ 3406 4025 3406 3419 \r\nQ 3406 3131 3298 2873 \r\nQ 3191 2616 2906 2266 \r\nQ 2828 2175 2409 1742 \r\nQ 1991 1309 1228 531 \r\nz\r\n\" id=\"DejaVuSans-32\" transform=\"scale(0.015625)\"/>\r\n       </defs>\r\n       <use xlink:href=\"#DejaVuSans-32\"/>\r\n       <use x=\"63.623047\" xlink:href=\"#DejaVuSans-30\"/>\r\n      </g>\r\n     </g>\r\n    </g>\r\n    <g id=\"text_3\">\r\n     <!-- truck -->\r\n     <g transform=\"translate(68.456094 146.297031)scale(0.1 -0.1)\">\r\n      <defs>\r\n       <path d=\"M 1172 4494 \r\nL 1172 3500 \r\nL 2356 3500 \r\nL 2356 3053 \r\nL 1172 3053 \r\nL 1172 1153 \r\nQ 1172 725 1289 603 \r\nQ 1406 481 1766 481 \r\nL 2356 481 \r\nL 2356 0 \r\nL 1766 0 \r\nQ 1100 0 847 248 \r\nQ 594 497 594 1153 \r\nL 594 3053 \r\nL 172 3053 \r\nL 172 3500 \r\nL 594 3500 \r\nL 594 4494 \r\nL 1172 4494 \r\nz\r\n\" id=\"DejaVuSans-74\" transform=\"scale(0.015625)\"/>\r\n       <path d=\"M 2631 2963 \r\nQ 2534 3019 2420 3045 \r\nQ 2306 3072 2169 3072 \r\nQ 1681 3072 1420 2755 \r\nQ 1159 2438 1159 1844 \r\nL 1159 0 \r\nL 581 0 \r\nL 581 3500 \r\nL 1159 3500 \r\nL 1159 2956 \r\nQ 1341 3275 1631 3429 \r\nQ 1922 3584 2338 3584 \r\nQ 2397 3584 2469 3576 \r\nQ 2541 3569 2628 3553 \r\nL 2631 2963 \r\nz\r\n\" id=\"DejaVuSans-72\" transform=\"scale(0.015625)\"/>\r\n       <path d=\"M 544 1381 \r\nL 544 3500 \r\nL 1119 3500 \r\nL 1119 1403 \r\nQ 1119 906 1312 657 \r\nQ 1506 409 1894 409 \r\nQ 2359 409 2629 706 \r\nQ 2900 1003 2900 1516 \r\nL 2900 3500 \r\nL 3475 3500 \r\nL 3475 0 \r\nL 2900 0 \r\nL 2900 538 \r\nQ 2691 219 2414 64 \r\nQ 2138 -91 1772 -91 \r\nQ 1169 -91 856 284 \r\nQ 544 659 544 1381 \r\nz\r\nM 1991 3584 \r\nL 1991 3584 \r\nz\r\n\" id=\"DejaVuSans-75\" transform=\"scale(0.015625)\"/>\r\n       <path d=\"M 3122 3366 \r\nL 3122 2828 \r\nQ 2878 2963 2633 3030 \r\nQ 2388 3097 2138 3097 \r\nQ 1578 3097 1268 2742 \r\nQ 959 2388 959 1747 \r\nQ 959 1106 1268 751 \r\nQ 1578 397 2138 397 \r\nQ 2388 397 2633 464 \r\nQ 2878 531 3122 666 \r\nL 3122 134 \r\nQ 2881 22 2623 -34 \r\nQ 2366 -91 2075 -91 \r\nQ 1284 -91 818 406 \r\nQ 353 903 353 1747 \r\nQ 353 2603 823 3093 \r\nQ 1294 3584 2113 3584 \r\nQ 2378 3584 2631 3529 \r\nQ 2884 3475 3122 3366 \r\nz\r\n\" id=\"DejaVuSans-63\" transform=\"scale(0.015625)\"/>\r\n       <path d=\"M 581 4863 \r\nL 1159 4863 \r\nL 1159 1991 \r\nL 2875 3500 \r\nL 3609 3500 \r\nL 1753 1863 \r\nL 3688 0 \r\nL 2938 0 \r\nL 1159 1709 \r\nL 1159 0 \r\nL 581 0 \r\nL 581 4863 \r\nz\r\n\" id=\"DejaVuSans-6b\" transform=\"scale(0.015625)\"/>\r\n      </defs>\r\n      <use xlink:href=\"#DejaVuSans-74\"/>\r\n      <use x=\"39.208984\" xlink:href=\"#DejaVuSans-72\"/>\r\n      <use x=\"80.322266\" xlink:href=\"#DejaVuSans-75\"/>\r\n      <use x=\"143.701172\" xlink:href=\"#DejaVuSans-63\"/>\r\n      <use x=\"198.681641\" xlink:href=\"#DejaVuSans-6b\"/>\r\n     </g>\r\n    </g>\r\n   </g>\r\n   <g id=\"matplotlib.axis_2\">\r\n    <g id=\"ytick_1\">\r\n     <g id=\"line2d_3\">\r\n      <defs>\r\n       <path d=\"M 0 0 \r\nL -3.5 0 \r\n\" id=\"mc997308c73\" style=\"stroke:#000000;stroke-width:0.8;\"/>\r\n      </defs>\r\n      <g>\r\n       <use style=\"stroke:#000000;stroke-width:0.8;\" x=\"26.925\" xlink:href=\"#mc997308c73\" y=\"10.999219\"/>\r\n      </g>\r\n     </g>\r\n     <g id=\"text_4\">\r\n      <!-- 0 -->\r\n      <g transform=\"translate(13.5625 14.798438)scale(0.1 -0.1)\">\r\n       <use xlink:href=\"#DejaVuSans-30\"/>\r\n      </g>\r\n     </g>\r\n    </g>\r\n    <g id=\"ytick_2\">\r\n     <g id=\"line2d_4\">\r\n      <g>\r\n       <use style=\"stroke:#000000;stroke-width:0.8;\" x=\"26.925\" xlink:href=\"#mc997308c73\" y=\"44.974219\"/>\r\n      </g>\r\n     </g>\r\n     <g id=\"text_5\">\r\n      <!-- 10 -->\r\n      <g transform=\"translate(7.2 48.773438)scale(0.1 -0.1)\">\r\n       <defs>\r\n        <path d=\"M 794 531 \r\nL 1825 531 \r\nL 1825 4091 \r\nL 703 3866 \r\nL 703 4441 \r\nL 1819 4666 \r\nL 2450 4666 \r\nL 2450 531 \r\nL 3481 531 \r\nL 3481 0 \r\nL 794 0 \r\nL 794 531 \r\nz\r\n\" id=\"DejaVuSans-31\" transform=\"scale(0.015625)\"/>\r\n       </defs>\r\n       <use xlink:href=\"#DejaVuSans-31\"/>\r\n       <use x=\"63.623047\" xlink:href=\"#DejaVuSans-30\"/>\r\n      </g>\r\n     </g>\r\n    </g>\r\n    <g id=\"ytick_3\">\r\n     <g id=\"line2d_5\">\r\n      <g>\r\n       <use style=\"stroke:#000000;stroke-width:0.8;\" x=\"26.925\" xlink:href=\"#mc997308c73\" y=\"78.949219\"/>\r\n      </g>\r\n     </g>\r\n     <g id=\"text_6\">\r\n      <!-- 20 -->\r\n      <g transform=\"translate(7.2 82.748438)scale(0.1 -0.1)\">\r\n       <use xlink:href=\"#DejaVuSans-32\"/>\r\n       <use x=\"63.623047\" xlink:href=\"#DejaVuSans-30\"/>\r\n      </g>\r\n     </g>\r\n    </g>\r\n    <g id=\"ytick_4\">\r\n     <g id=\"line2d_6\">\r\n      <g>\r\n       <use style=\"stroke:#000000;stroke-width:0.8;\" x=\"26.925\" xlink:href=\"#mc997308c73\" y=\"112.924219\"/>\r\n      </g>\r\n     </g>\r\n     <g id=\"text_7\">\r\n      <!-- 30 -->\r\n      <g transform=\"translate(7.2 116.723438)scale(0.1 -0.1)\">\r\n       <defs>\r\n        <path d=\"M 2597 2516 \r\nQ 3050 2419 3304 2112 \r\nQ 3559 1806 3559 1356 \r\nQ 3559 666 3084 287 \r\nQ 2609 -91 1734 -91 \r\nQ 1441 -91 1130 -33 \r\nQ 819 25 488 141 \r\nL 488 750 \r\nQ 750 597 1062 519 \r\nQ 1375 441 1716 441 \r\nQ 2309 441 2620 675 \r\nQ 2931 909 2931 1356 \r\nQ 2931 1769 2642 2001 \r\nQ 2353 2234 1838 2234 \r\nL 1294 2234 \r\nL 1294 2753 \r\nL 1863 2753 \r\nQ 2328 2753 2575 2939 \r\nQ 2822 3125 2822 3475 \r\nQ 2822 3834 2567 4026 \r\nQ 2313 4219 1838 4219 \r\nQ 1578 4219 1281 4162 \r\nQ 984 4106 628 3988 \r\nL 628 4550 \r\nQ 988 4650 1302 4700 \r\nQ 1616 4750 1894 4750 \r\nQ 2613 4750 3031 4423 \r\nQ 3450 4097 3450 3541 \r\nQ 3450 3153 3228 2886 \r\nQ 3006 2619 2597 2516 \r\nz\r\n\" id=\"DejaVuSans-33\" transform=\"scale(0.015625)\"/>\r\n       </defs>\r\n       <use xlink:href=\"#DejaVuSans-33\"/>\r\n       <use x=\"63.623047\" xlink:href=\"#DejaVuSans-30\"/>\r\n      </g>\r\n     </g>\r\n    </g>\r\n   </g>\r\n   <g id=\"patch_3\">\r\n    <path d=\"M 26.925 118.020469 \r\nL 26.925 9.300469 \r\n\" style=\"fill:none;stroke:#000000;stroke-linecap:square;stroke-linejoin:miter;stroke-width:0.8;\"/>\r\n   </g>\r\n   <g id=\"patch_4\">\r\n    <path d=\"M 135.645 118.020469 \r\nL 135.645 9.300469 \r\n\" style=\"fill:none;stroke:#000000;stroke-linecap:square;stroke-linejoin:miter;stroke-width:0.8;\"/>\r\n   </g>\r\n   <g id=\"patch_5\">\r\n    <path d=\"M 26.925 118.020469 \r\nL 135.645 118.020469 \r\n\" style=\"fill:none;stroke:#000000;stroke-linecap:square;stroke-linejoin:miter;stroke-width:0.8;\"/>\r\n   </g>\r\n   <g id=\"patch_6\">\r\n    <path d=\"M 26.925 9.300469 \r\nL 135.645 9.300469 \r\n\" style=\"fill:none;stroke:#000000;stroke-linecap:square;stroke-linejoin:miter;stroke-width:0.8;\"/>\r\n   </g>\r\n  </g>\r\n </g>\r\n <defs>\r\n  <clipPath id=\"p89d82d3fef\">\r\n   <rect height=\"108.72\" width=\"108.72\" x=\"26.925\" y=\"9.300469\"/>\r\n  </clipPath>\r\n </defs>\r\n</svg>\r\n",
      "image/png": "[encoded data removed]"
     },
     "metadata": {
      "needs_background": "light"
     }
    },
    {
     "output_type": "display_data",
     "data": {
      "text/plain": "<Figure size 1080x144 with 1 Axes>",
      "image/svg+xml": "<?xml version=\"1.0\" encoding=\"utf-8\" standalone=\"no\"?>\r\n<!DOCTYPE svg PUBLIC \"-//W3C//DTD SVG 1.1//EN\"\r\n  \"http://www.w3.org/Graphics/SVG/1.1/DTD/svg11.dtd\">\r\n<svg height=\"155.576719pt\" version=\"1.1\" viewBox=\"0 0 142.845 155.576719\" width=\"142.845pt\" xmlns=\"http://www.w3.org/2000/svg\" xmlns:xlink=\"http://www.w3.org/1999/xlink\">\r\n <metadata>\r\n  <rdf:RDF xmlns:cc=\"http://creativecommons.org/ns#\" xmlns:dc=\"http://purl.org/dc/elements/1.1/\" xmlns:rdf=\"http://www.w3.org/1999/02/22-rdf-syntax-ns#\">\r\n   <cc:Work>\r\n    <dc:type rdf:resource=\"http://purl.org/dc/dcmitype/StillImage\"/>\r\n    <dc:date>2021-06-23T22:22:23.129712</dc:date>\r\n    <dc:format>image/svg+xml</dc:format>\r\n    <dc:creator>\r\n     <cc:Agent>\r\n      <dc:title>Matplotlib v3.4.2, https://matplotlib.org/</dc:title>\r\n     </cc:Agent>\r\n    </dc:creator>\r\n   </cc:Work>\r\n  </rdf:RDF>\r\n </metadata>\r\n <defs>\r\n  <style type=\"text/css\">*{stroke-linecap:butt;stroke-linejoin:round;}</style>\r\n </defs>\r\n <g id=\"figure_1\">\r\n  <g id=\"patch_1\">\r\n   <path d=\"M 0 155.576719 \r\nL 142.845 155.576719 \r\nL 142.845 0 \r\nL 0 0 \r\nz\r\n\" style=\"fill:none;\"/>\r\n  </g>\r\n  <g id=\"axes_1\">\r\n   <g id=\"patch_2\">\r\n    <path d=\"M 26.925 118.020469 \r\nL 135.645 118.020469 \r\nL 135.645 9.300469 \r\nL 26.925 9.300469 \r\nz\r\n\" style=\"fill:#ffffff;\"/>\r\n   </g>\r\n   <g clip-path=\"url(#p63ea154737)\">\r\n    <image height=\"109\" id=\"image165052efb7\" transform=\"scale(1 -1)translate(0 -109)\" width=\"109\" x=\"26.925\" xlink:href=\"data:image/png;base64,\r\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\" y=\"-9.020469\"/>\r\n   </g>\r\n   <g id=\"matplotlib.axis_1\">\r\n    <g id=\"xtick_1\">\r\n     <g id=\"line2d_1\">\r\n      <defs>\r\n       <path d=\"M 0 0 \r\nL 0 3.5 \r\n\" id=\"md7a4de26d9\" style=\"stroke:#000000;stroke-width:0.8;\"/>\r\n      </defs>\r\n      <g>\r\n       <use style=\"stroke:#000000;stroke-width:0.8;\" x=\"28.62375\" xlink:href=\"#md7a4de26d9\" y=\"118.020469\"/>\r\n      </g>\r\n     </g>\r\n     <g id=\"text_1\">\r\n      <!-- 0 -->\r\n      <g transform=\"translate(25.4425 132.618906)scale(0.1 -0.1)\">\r\n       <defs>\r\n        <path d=\"M 2034 4250 \r\nQ 1547 4250 1301 3770 \r\nQ 1056 3291 1056 2328 \r\nQ 1056 1369 1301 889 \r\nQ 1547 409 2034 409 \r\nQ 2525 409 2770 889 \r\nQ 3016 1369 3016 2328 \r\nQ 3016 3291 2770 3770 \r\nQ 2525 4250 2034 4250 \r\nz\r\nM 2034 4750 \r\nQ 2819 4750 3233 4129 \r\nQ 3647 3509 3647 2328 \r\nQ 3647 1150 3233 529 \r\nQ 2819 -91 2034 -91 \r\nQ 1250 -91 836 529 \r\nQ 422 1150 422 2328 \r\nQ 422 3509 836 4129 \r\nQ 1250 4750 2034 4750 \r\nz\r\n\" id=\"DejaVuSans-30\" transform=\"scale(0.015625)\"/>\r\n       </defs>\r\n       <use xlink:href=\"#DejaVuSans-30\"/>\r\n      </g>\r\n     </g>\r\n    </g>\r\n    <g id=\"xtick_2\">\r\n     <g id=\"line2d_2\">\r\n      <g>\r\n       <use style=\"stroke:#000000;stroke-width:0.8;\" x=\"96.57375\" xlink:href=\"#md7a4de26d9\" y=\"118.020469\"/>\r\n      </g>\r\n     </g>\r\n     <g id=\"text_2\">\r\n      <!-- 20 -->\r\n      <g transform=\"translate(90.21125 132.618906)scale(0.1 -0.1)\">\r\n       <defs>\r\n        <path d=\"M 1228 531 \r\nL 3431 531 \r\nL 3431 0 \r\nL 469 0 \r\nL 469 531 \r\nQ 828 903 1448 1529 \r\nQ 2069 2156 2228 2338 \r\nQ 2531 2678 2651 2914 \r\nQ 2772 3150 2772 3378 \r\nQ 2772 3750 2511 3984 \r\nQ 2250 4219 1831 4219 \r\nQ 1534 4219 1204 4116 \r\nQ 875 4013 500 3803 \r\nL 500 4441 \r\nQ 881 4594 1212 4672 \r\nQ 1544 4750 1819 4750 \r\nQ 2544 4750 2975 4387 \r\nQ 3406 4025 3406 3419 \r\nQ 3406 3131 3298 2873 \r\nQ 3191 2616 2906 2266 \r\nQ 2828 2175 2409 1742 \r\nQ 1991 1309 1228 531 \r\nz\r\n\" id=\"DejaVuSans-32\" transform=\"scale(0.015625)\"/>\r\n       </defs>\r\n       <use xlink:href=\"#DejaVuSans-32\"/>\r\n       <use x=\"63.623047\" xlink:href=\"#DejaVuSans-30\"/>\r\n      </g>\r\n     </g>\r\n    </g>\r\n    <g id=\"text_3\">\r\n     <!-- deer -->\r\n     <g transform=\"translate(69.902188 146.297031)scale(0.1 -0.1)\">\r\n      <defs>\r\n       <path d=\"M 2906 2969 \r\nL 2906 4863 \r\nL 3481 4863 \r\nL 3481 0 \r\nL 2906 0 \r\nL 2906 525 \r\nQ 2725 213 2448 61 \r\nQ 2172 -91 1784 -91 \r\nQ 1150 -91 751 415 \r\nQ 353 922 353 1747 \r\nQ 353 2572 751 3078 \r\nQ 1150 3584 1784 3584 \r\nQ 2172 3584 2448 3432 \r\nQ 2725 3281 2906 2969 \r\nz\r\nM 947 1747 \r\nQ 947 1113 1208 752 \r\nQ 1469 391 1925 391 \r\nQ 2381 391 2643 752 \r\nQ 2906 1113 2906 1747 \r\nQ 2906 2381 2643 2742 \r\nQ 2381 3103 1925 3103 \r\nQ 1469 3103 1208 2742 \r\nQ 947 2381 947 1747 \r\nz\r\n\" id=\"DejaVuSans-64\" transform=\"scale(0.015625)\"/>\r\n       <path d=\"M 3597 1894 \r\nL 3597 1613 \r\nL 953 1613 \r\nQ 991 1019 1311 708 \r\nQ 1631 397 2203 397 \r\nQ 2534 397 2845 478 \r\nQ 3156 559 3463 722 \r\nL 3463 178 \r\nQ 3153 47 2828 -22 \r\nQ 2503 -91 2169 -91 \r\nQ 1331 -91 842 396 \r\nQ 353 884 353 1716 \r\nQ 353 2575 817 3079 \r\nQ 1281 3584 2069 3584 \r\nQ 2775 3584 3186 3129 \r\nQ 3597 2675 3597 1894 \r\nz\r\nM 3022 2063 \r\nQ 3016 2534 2758 2815 \r\nQ 2500 3097 2075 3097 \r\nQ 1594 3097 1305 2825 \r\nQ 1016 2553 972 2059 \r\nL 3022 2063 \r\nz\r\n\" id=\"DejaVuSans-65\" transform=\"scale(0.015625)\"/>\r\n       <path d=\"M 2631 2963 \r\nQ 2534 3019 2420 3045 \r\nQ 2306 3072 2169 3072 \r\nQ 1681 3072 1420 2755 \r\nQ 1159 2438 1159 1844 \r\nL 1159 0 \r\nL 581 0 \r\nL 581 3500 \r\nL 1159 3500 \r\nL 1159 2956 \r\nQ 1341 3275 1631 3429 \r\nQ 1922 3584 2338 3584 \r\nQ 2397 3584 2469 3576 \r\nQ 2541 3569 2628 3553 \r\nL 2631 2963 \r\nz\r\n\" id=\"DejaVuSans-72\" transform=\"scale(0.015625)\"/>\r\n      </defs>\r\n      <use xlink:href=\"#DejaVuSans-64\"/>\r\n      <use x=\"63.476562\" xlink:href=\"#DejaVuSans-65\"/>\r\n      <use x=\"125\" xlink:href=\"#DejaVuSans-65\"/>\r\n      <use x=\"186.523438\" xlink:href=\"#DejaVuSans-72\"/>\r\n     </g>\r\n    </g>\r\n   </g>\r\n   <g id=\"matplotlib.axis_2\">\r\n    <g id=\"ytick_1\">\r\n     <g id=\"line2d_3\">\r\n      <defs>\r\n       <path d=\"M 0 0 \r\nL -3.5 0 \r\n\" id=\"m060dc7e672\" style=\"stroke:#000000;stroke-width:0.8;\"/>\r\n      </defs>\r\n      <g>\r\n       <use style=\"stroke:#000000;stroke-width:0.8;\" x=\"26.925\" xlink:href=\"#m060dc7e672\" y=\"10.999219\"/>\r\n      </g>\r\n     </g>\r\n     <g id=\"text_4\">\r\n      <!-- 0 -->\r\n      <g transform=\"translate(13.5625 14.798438)scale(0.1 -0.1)\">\r\n       <use xlink:href=\"#DejaVuSans-30\"/>\r\n      </g>\r\n     </g>\r\n    </g>\r\n    <g id=\"ytick_2\">\r\n     <g id=\"line2d_4\">\r\n      <g>\r\n       <use style=\"stroke:#000000;stroke-width:0.8;\" x=\"26.925\" xlink:href=\"#m060dc7e672\" y=\"44.974219\"/>\r\n      </g>\r\n     </g>\r\n     <g id=\"text_5\">\r\n      <!-- 10 -->\r\n      <g transform=\"translate(7.2 48.773438)scale(0.1 -0.1)\">\r\n       <defs>\r\n        <path d=\"M 794 531 \r\nL 1825 531 \r\nL 1825 4091 \r\nL 703 3866 \r\nL 703 4441 \r\nL 1819 4666 \r\nL 2450 4666 \r\nL 2450 531 \r\nL 3481 531 \r\nL 3481 0 \r\nL 794 0 \r\nL 794 531 \r\nz\r\n\" id=\"DejaVuSans-31\" transform=\"scale(0.015625)\"/>\r\n       </defs>\r\n       <use xlink:href=\"#DejaVuSans-31\"/>\r\n       <use x=\"63.623047\" xlink:href=\"#DejaVuSans-30\"/>\r\n      </g>\r\n     </g>\r\n    </g>\r\n    <g id=\"ytick_3\">\r\n     <g id=\"line2d_5\">\r\n      <g>\r\n       <use style=\"stroke:#000000;stroke-width:0.8;\" x=\"26.925\" xlink:href=\"#m060dc7e672\" y=\"78.949219\"/>\r\n      </g>\r\n     </g>\r\n     <g id=\"text_6\">\r\n      <!-- 20 -->\r\n      <g transform=\"translate(7.2 82.748438)scale(0.1 -0.1)\">\r\n       <use xlink:href=\"#DejaVuSans-32\"/>\r\n       <use x=\"63.623047\" xlink:href=\"#DejaVuSans-30\"/>\r\n      </g>\r\n     </g>\r\n    </g>\r\n    <g id=\"ytick_4\">\r\n     <g id=\"line2d_6\">\r\n      <g>\r\n       <use style=\"stroke:#000000;stroke-width:0.8;\" x=\"26.925\" xlink:href=\"#m060dc7e672\" y=\"112.924219\"/>\r\n      </g>\r\n     </g>\r\n     <g id=\"text_7\">\r\n      <!-- 30 -->\r\n      <g transform=\"translate(7.2 116.723438)scale(0.1 -0.1)\">\r\n       <defs>\r\n        <path d=\"M 2597 2516 \r\nQ 3050 2419 3304 2112 \r\nQ 3559 1806 3559 1356 \r\nQ 3559 666 3084 287 \r\nQ 2609 -91 1734 -91 \r\nQ 1441 -91 1130 -33 \r\nQ 819 25 488 141 \r\nL 488 750 \r\nQ 750 597 1062 519 \r\nQ 1375 441 1716 441 \r\nQ 2309 441 2620 675 \r\nQ 2931 909 2931 1356 \r\nQ 2931 1769 2642 2001 \r\nQ 2353 2234 1838 2234 \r\nL 1294 2234 \r\nL 1294 2753 \r\nL 1863 2753 \r\nQ 2328 2753 2575 2939 \r\nQ 2822 3125 2822 3475 \r\nQ 2822 3834 2567 4026 \r\nQ 2313 4219 1838 4219 \r\nQ 1578 4219 1281 4162 \r\nQ 984 4106 628 3988 \r\nL 628 4550 \r\nQ 988 4650 1302 4700 \r\nQ 1616 4750 1894 4750 \r\nQ 2613 4750 3031 4423 \r\nQ 3450 4097 3450 3541 \r\nQ 3450 3153 3228 2886 \r\nQ 3006 2619 2597 2516 \r\nz\r\n\" id=\"DejaVuSans-33\" transform=\"scale(0.015625)\"/>\r\n       </defs>\r\n       <use xlink:href=\"#DejaVuSans-33\"/>\r\n       <use x=\"63.623047\" xlink:href=\"#DejaVuSans-30\"/>\r\n      </g>\r\n     </g>\r\n    </g>\r\n   </g>\r\n   <g id=\"patch_3\">\r\n    <path d=\"M 26.925 118.020469 \r\nL 26.925 9.300469 \r\n\" style=\"fill:none;stroke:#000000;stroke-linecap:square;stroke-linejoin:miter;stroke-width:0.8;\"/>\r\n   </g>\r\n   <g id=\"patch_4\">\r\n    <path d=\"M 135.645 118.020469 \r\nL 135.645 9.300469 \r\n\" style=\"fill:none;stroke:#000000;stroke-linecap:square;stroke-linejoin:miter;stroke-width:0.8;\"/>\r\n   </g>\r\n   <g id=\"patch_5\">\r\n    <path d=\"M 26.925 118.020469 \r\nL 135.645 118.020469 \r\n\" style=\"fill:none;stroke:#000000;stroke-linecap:square;stroke-linejoin:miter;stroke-width:0.8;\"/>\r\n   </g>\r\n   <g id=\"patch_6\">\r\n    <path d=\"M 26.925 9.300469 \r\nL 135.645 9.300469 \r\n\" style=\"fill:none;stroke:#000000;stroke-linecap:square;stroke-linejoin:miter;stroke-width:0.8;\"/>\r\n   </g>\r\n  </g>\r\n </g>\r\n <defs>\r\n  <clipPath id=\"p63ea154737\">\r\n   <rect height=\"108.72\" width=\"108.72\" x=\"26.925\" y=\"9.300469\"/>\r\n  </clipPath>\r\n </defs>\r\n</svg>\r\n",
      "image/png": "[encoded data removed]"
     },
     "metadata": {
      "needs_background": "light"
     }
    }
   ],
   "source": [
    "# plot samples\n",
    "classes = [\"airplane\", \"automobile\", \"bird\", \"cat\", \"deer\", \"dog\", \"frog\", \"horse\", \"ship\", \"truck\"]\n",
    "def plot_sample(X, y, index):\n",
    "    plt.figure(figsize=(15, 2))\n",
    "    plt.imshow(X_train[index])\n",
    "    plt.xlabel(classes[y[index]])\n",
    "\n",
    "plot_sample(X_train, y_train, 1), plot_sample(X_train, y_train, 3)"
   ]
  },
  {
   "source": [
    "# ANN"
   ],
   "cell_type": "markdown",
   "metadata": {}
  },
  {
   "cell_type": "code",
   "execution_count": 3,
   "metadata": {},
   "outputs": [
    {
     "output_type": "stream",
     "name": "stdout",
     "text": [
      "Epoch 1/5\n",
      "1563/1563 [==============================] - 3s 1ms/step - loss: 1.8093 - accuracy: 0.3557\n",
      "Epoch 2/5\n",
      "1563/1563 [==============================] - 2s 1ms/step - loss: 1.6215 - accuracy: 0.4287\n",
      "Epoch 3/5\n",
      "1563/1563 [==============================] - 2s 1ms/step - loss: 1.5393 - accuracy: 0.4575\n",
      "Epoch 4/5\n",
      "1563/1563 [==============================] - 2s 1ms/step - loss: 1.4819 - accuracy: 0.4765\n",
      "Epoch 5/5\n",
      "1563/1563 [==============================] - 2s 1ms/step - loss: 1.4314 - accuracy: 0.4988\n"
     ]
    },
    {
     "output_type": "execute_result",
     "data": {
      "text/plain": [
       "<tensorflow.python.keras.callbacks.History at 0x2948d935850>"
      ]
     },
     "metadata": {},
     "execution_count": 3
    }
   ],
   "source": [
    "# define and train model\n",
    "ann = keras.Sequential([\n",
    "    keras.layers.Flatten(input_shape=(32, 32, 3)), # use test set shape\n",
    "    keras.layers.Dense(3000, activation=\"relu\"),\n",
    "    keras.layers.Dense(1000, activation=\"relu\"),\n",
    "    keras.layers.Dense(10, activation=\"sigmoid\")\n",
    "])\n",
    "\n",
    "ann.compile(optimizer=\"SGD\", loss=\"sparse_categorical_crossentropy\", metrics=[\"accuracy\"])\n",
    "# in this case we don't need to one hot encode y using sparse_categorical_crossentropy (single value)\n",
    "\n",
    "ann.fit(X_train, y_train, epochs=5)"
   ]
  },
  {
   "cell_type": "code",
   "execution_count": 4,
   "metadata": {},
   "outputs": [
    {
     "output_type": "stream",
     "name": "stdout",
     "text": [
      "Classification Report: \n               precision    recall  f1-score   support\n\n           0       0.59      0.53      0.56      1000\n           1       0.52      0.73      0.61      1000\n           2       0.39      0.32      0.35      1000\n           3       0.34      0.31      0.32      1000\n           4       0.58      0.18      0.27      1000\n           5       0.44      0.32      0.37      1000\n           6       0.41      0.74      0.53      1000\n           7       0.55      0.54      0.55      1000\n           8       0.63      0.60      0.62      1000\n           9       0.50      0.58      0.54      1000\n\n    accuracy                           0.49     10000\n   macro avg       0.49      0.49      0.47     10000\nweighted avg       0.49      0.49      0.47     10000\n\n"
     ]
    }
   ],
   "source": [
    "y_pred = ann.predict(X_test)\n",
    "y_pred_class = [np.argmax(x) for x in y_pred]\n",
    "\n",
    "print(\"Classification Report: \\n\", classification_report(y_test, y_pred_class))"
   ]
  },
  {
   "source": [
    "# CNN"
   ],
   "cell_type": "markdown",
   "metadata": {}
  },
  {
   "cell_type": "code",
   "execution_count": 9,
   "metadata": {},
   "outputs": [],
   "source": [
    "configuration = tf.compat.v1.ConfigProto()\n",
    "configuration.gpu_options.allow_growth = True\n",
    "session = tf.compat.v1.Session(config=configuration)\n",
    "\n",
    "# define and train model\n",
    "cnn = keras.Sequential([\n",
    "    # cnn layer\n",
    "    keras.layers.Conv2D(filters=64, kernel_size=(3, 3), activation=\"relu\", input_shape=(32, 32, 3)), # filter means amount of features\n",
    "    keras.layers.MaxPooling2D((2, 2)), # can use average pooling as well\n",
    "\n",
    "    keras.layers.Conv2D(filters=32, kernel_size=(3, 3), activation=\"relu\"), \n",
    "    keras.layers.MaxPooling2D((2, 2)),\n",
    "\n",
    "    # dense layer\n",
    "    keras.layers.Flatten(),\n",
    "    keras.layers.Dense(64, activation=\"relu\"),\n",
    "    keras.layers.Dense(10, activation=\"softmax\")\n",
    "])\n",
    "\n",
    "cnn.compile(optimizer=\"adam\", loss=\"sparse_categorical_crossentropy\", metrics=[\"accuracy\"])\n",
    "# in this case we don't need to one hot encode y using sparse_categorical_crossentropy (single value)\n"
   ]
  },
  {
   "cell_type": "code",
   "execution_count": 10,
   "metadata": {},
   "outputs": [
    {
     "output_type": "stream",
     "name": "stdout",
     "text": [
      "Epoch 1/50\n",
      "1563/1563 [==============================] - 4s 2ms/step - loss: 1.4988 - accuracy: 0.4601\n",
      "Epoch 2/50\n",
      "1563/1563 [==============================] - 3s 2ms/step - loss: 1.1600 - accuracy: 0.5918\n",
      "Epoch 3/50\n",
      "1563/1563 [==============================] - 3s 2ms/step - loss: 1.0254 - accuracy: 0.6378\n",
      "Epoch 4/50\n",
      "1563/1563 [==============================] - 3s 2ms/step - loss: 0.9486 - accuracy: 0.6686\n",
      "Epoch 5/50\n",
      "1563/1563 [==============================] - 3s 2ms/step - loss: 0.8833 - accuracy: 0.6917\n",
      "Epoch 6/50\n",
      "1563/1563 [==============================] - 3s 2ms/step - loss: 0.8378 - accuracy: 0.7062\n",
      "Epoch 7/50\n",
      "1563/1563 [==============================] - 3s 2ms/step - loss: 0.7947 - accuracy: 0.7215\n",
      "Epoch 8/50\n",
      "1563/1563 [==============================] - 3s 2ms/step - loss: 0.7613 - accuracy: 0.7344\n",
      "Epoch 9/50\n",
      "1563/1563 [==============================] - 3s 2ms/step - loss: 0.7283 - accuracy: 0.7446\n",
      "Epoch 10/50\n",
      "1563/1563 [==============================] - 3s 2ms/step - loss: 0.6983 - accuracy: 0.7549\n",
      "Epoch 11/50\n",
      "1563/1563 [==============================] - 3s 2ms/step - loss: 0.6726 - accuracy: 0.7626\n",
      "Epoch 12/50\n",
      "1563/1563 [==============================] - 3s 2ms/step - loss: 0.6480 - accuracy: 0.7728\n",
      "Epoch 13/50\n",
      "1563/1563 [==============================] - 3s 2ms/step - loss: 0.6269 - accuracy: 0.7772\n",
      "Epoch 14/50\n",
      "1563/1563 [==============================] - 3s 2ms/step - loss: 0.6058 - accuracy: 0.7847\n",
      "Epoch 15/50\n",
      "1563/1563 [==============================] - 3s 2ms/step - loss: 0.5885 - accuracy: 0.7909\n",
      "Epoch 16/50\n",
      "1563/1563 [==============================] - 3s 2ms/step - loss: 0.5662 - accuracy: 0.7988\n",
      "Epoch 17/50\n",
      "1563/1563 [==============================] - 3s 2ms/step - loss: 0.5491 - accuracy: 0.8047\n",
      "Epoch 18/50\n",
      "1563/1563 [==============================] - 3s 2ms/step - loss: 0.5373 - accuracy: 0.8093\n",
      "Epoch 19/50\n",
      "1563/1563 [==============================] - 3s 2ms/step - loss: 0.5171 - accuracy: 0.8170\n",
      "Epoch 20/50\n",
      "1563/1563 [==============================] - 3s 2ms/step - loss: 0.5050 - accuracy: 0.8208\n",
      "Epoch 21/50\n",
      "1563/1563 [==============================] - 3s 2ms/step - loss: 0.4900 - accuracy: 0.8240\n",
      "Epoch 22/50\n",
      "1563/1563 [==============================] - 3s 2ms/step - loss: 0.4718 - accuracy: 0.8317\n",
      "Epoch 23/50\n",
      "1563/1563 [==============================] - 3s 2ms/step - loss: 0.4610 - accuracy: 0.8341\n",
      "Epoch 24/50\n",
      "1563/1563 [==============================] - 3s 2ms/step - loss: 0.4427 - accuracy: 0.8408\n",
      "Epoch 25/50\n",
      "1563/1563 [==============================] - 3s 2ms/step - loss: 0.4348 - accuracy: 0.8429\n",
      "Epoch 26/50\n",
      "1563/1563 [==============================] - 3s 2ms/step - loss: 0.4242 - accuracy: 0.8484\n",
      "Epoch 27/50\n",
      "1563/1563 [==============================] - 3s 2ms/step - loss: 0.4125 - accuracy: 0.8519\n",
      "Epoch 28/50\n",
      "1563/1563 [==============================] - 3s 2ms/step - loss: 0.4023 - accuracy: 0.8548\n",
      "Epoch 29/50\n",
      "1563/1563 [==============================] - 3s 2ms/step - loss: 0.3904 - accuracy: 0.8583\n",
      "Epoch 30/50\n",
      "1563/1563 [==============================] - 3s 2ms/step - loss: 0.3787 - accuracy: 0.8623\n",
      "Epoch 31/50\n",
      "1563/1563 [==============================] - 3s 2ms/step - loss: 0.3693 - accuracy: 0.8674\n",
      "Epoch 32/50\n",
      "1563/1563 [==============================] - 3s 2ms/step - loss: 0.3616 - accuracy: 0.8680\n",
      "Epoch 33/50\n",
      "1563/1563 [==============================] - 3s 2ms/step - loss: 0.3558 - accuracy: 0.8699\n",
      "Epoch 34/50\n",
      "1563/1563 [==============================] - 3s 2ms/step - loss: 0.3443 - accuracy: 0.8741\n",
      "Epoch 35/50\n",
      "1563/1563 [==============================] - 3s 2ms/step - loss: 0.3306 - accuracy: 0.8811\n",
      "Epoch 36/50\n",
      "1563/1563 [==============================] - 3s 2ms/step - loss: 0.3250 - accuracy: 0.8812\n",
      "Epoch 37/50\n",
      "1563/1563 [==============================] - 3s 2ms/step - loss: 0.3161 - accuracy: 0.8858\n",
      "Epoch 38/50\n",
      "1563/1563 [==============================] - 3s 2ms/step - loss: 0.3114 - accuracy: 0.8864\n",
      "Epoch 39/50\n",
      "1563/1563 [==============================] - 3s 2ms/step - loss: 0.3025 - accuracy: 0.8893\n",
      "Epoch 40/50\n",
      "1563/1563 [==============================] - 3s 2ms/step - loss: 0.2935 - accuracy: 0.8934\n",
      "Epoch 41/50\n",
      "1563/1563 [==============================] - 3s 2ms/step - loss: 0.2915 - accuracy: 0.8939\n",
      "Epoch 42/50\n",
      "1563/1563 [==============================] - 3s 2ms/step - loss: 0.2867 - accuracy: 0.8952\n",
      "Epoch 43/50\n",
      "1563/1563 [==============================] - 3s 2ms/step - loss: 0.2744 - accuracy: 0.8998\n",
      "Epoch 44/50\n",
      "1563/1563 [==============================] - 3s 2ms/step - loss: 0.2704 - accuracy: 0.8999\n",
      "Epoch 45/50\n",
      "1563/1563 [==============================] - 3s 2ms/step - loss: 0.2607 - accuracy: 0.9061\n",
      "Epoch 46/50\n",
      "1563/1563 [==============================] - 3s 2ms/step - loss: 0.2570 - accuracy: 0.9054\n",
      "Epoch 47/50\n",
      "1563/1563 [==============================] - 3s 2ms/step - loss: 0.2497 - accuracy: 0.9085\n",
      "Epoch 48/50\n",
      "1563/1563 [==============================] - 3s 2ms/step - loss: 0.2441 - accuracy: 0.9117\n",
      "Epoch 49/50\n",
      "1563/1563 [==============================] - 3s 2ms/step - loss: 0.2374 - accuracy: 0.9127\n",
      "Epoch 50/50\n",
      "1563/1563 [==============================] - 3s 2ms/step - loss: 0.2378 - accuracy: 0.9137\n"
     ]
    },
    {
     "output_type": "execute_result",
     "data": {
      "text/plain": [
       "<tensorflow.python.keras.callbacks.History at 0x29acad20820>"
      ]
     },
     "metadata": {},
     "execution_count": 10
    }
   ],
   "source": [
    "# huge accuracy improvement\n",
    "cnn.fit(X_train, y_train, epochs=50)"
   ]
  },
  {
   "cell_type": "code",
   "execution_count": 11,
   "metadata": {},
   "outputs": [
    {
     "output_type": "stream",
     "name": "stdout",
     "text": [
      "Classification Report: \n               precision    recall  f1-score   support\n\n           0       0.72      0.71      0.71      1000\n           1       0.70      0.85      0.77      1000\n           2       0.56      0.54      0.55      1000\n           3       0.48      0.40      0.44      1000\n           4       0.62      0.58      0.60      1000\n           5       0.53      0.60      0.56      1000\n           6       0.74      0.75      0.75      1000\n           7       0.69      0.76      0.72      1000\n           8       0.83      0.75      0.79      1000\n           9       0.78      0.71      0.74      1000\n\n    accuracy                           0.67     10000\n   macro avg       0.66      0.67      0.66     10000\nweighted avg       0.66      0.67      0.66     10000\n\n"
     ]
    }
   ],
   "source": [
    "y_pred = cnn.predict(X_test)\n",
    "y_pred_class = [np.argmax(x) for x in y_pred] # argmax returns the index of the maximum value in the array\n",
    "\n",
    "print(\"Classification Report: \\n\", classification_report(y_test, y_pred_class))"
   ]
  },
  {
   "cell_type": "code",
   "execution_count": 19,
   "metadata": {},
   "outputs": [
    {
     "output_type": "stream",
     "name": "stdout",
     "text": [
      "Epoch 1/50\n",
      "1563/1563 [==============================] - 19s 5ms/step - loss: 2.2342 - accuracy: 0.2977\n",
      "Epoch 2/50\n",
      "1563/1563 [==============================] - 7s 5ms/step - loss: 1.4486 - accuracy: 0.4720\n",
      "Epoch 3/50\n",
      "1563/1563 [==============================] - 7s 5ms/step - loss: 1.2730 - accuracy: 0.5384\n",
      "Epoch 4/50\n",
      "1563/1563 [==============================] - 7s 5ms/step - loss: 1.1590 - accuracy: 0.5882\n",
      "Epoch 5/50\n",
      "1563/1563 [==============================] - 7s 5ms/step - loss: 1.0785 - accuracy: 0.6160\n",
      "Epoch 6/50\n",
      "1563/1563 [==============================] - 7s 5ms/step - loss: 1.0240 - accuracy: 0.6376\n",
      "Epoch 7/50\n",
      "1563/1563 [==============================] - 7s 5ms/step - loss: 0.9826 - accuracy: 0.6512\n",
      "Epoch 8/50\n",
      "1563/1563 [==============================] - 7s 5ms/step - loss: 0.9399 - accuracy: 0.6693\n",
      "Epoch 9/50\n",
      "1563/1563 [==============================] - 7s 5ms/step - loss: 0.9071 - accuracy: 0.6817\n",
      "Epoch 10/50\n",
      "1563/1563 [==============================] - 7s 5ms/step - loss: 0.8789 - accuracy: 0.6906\n",
      "Epoch 11/50\n",
      "1563/1563 [==============================] - 7s 5ms/step - loss: 0.8517 - accuracy: 0.6999\n",
      "Epoch 12/50\n",
      "1563/1563 [==============================] - 7s 5ms/step - loss: 0.8249 - accuracy: 0.7090\n",
      "Epoch 13/50\n",
      "1563/1563 [==============================] - 8s 5ms/step - loss: 0.8087 - accuracy: 0.7195\n",
      "Epoch 14/50\n",
      "1563/1563 [==============================] - 8s 5ms/step - loss: 0.7805 - accuracy: 0.7284\n",
      "Epoch 15/50\n",
      "1563/1563 [==============================] - 8s 5ms/step - loss: 0.7555 - accuracy: 0.7376\n",
      "Epoch 16/50\n",
      "1563/1563 [==============================] - 7s 5ms/step - loss: 0.7474 - accuracy: 0.7398\n",
      "Epoch 17/50\n",
      "1563/1563 [==============================] - 7s 5ms/step - loss: 0.7342 - accuracy: 0.7453\n",
      "Epoch 18/50\n",
      "1563/1563 [==============================] - 7s 5ms/step - loss: 0.7190 - accuracy: 0.7522\n",
      "Epoch 19/50\n",
      "1563/1563 [==============================] - 8s 5ms/step - loss: 0.7097 - accuracy: 0.7526\n",
      "Epoch 20/50\n",
      "1563/1563 [==============================] - 8s 5ms/step - loss: 0.6871 - accuracy: 0.7620\n",
      "Epoch 21/50\n",
      "1563/1563 [==============================] - 7s 5ms/step - loss: 0.6810 - accuracy: 0.7636\n",
      "Epoch 22/50\n",
      "1563/1563 [==============================] - 7s 5ms/step - loss: 0.6642 - accuracy: 0.7706\n",
      "Epoch 23/50\n",
      "1563/1563 [==============================] - 7s 5ms/step - loss: 0.6502 - accuracy: 0.7737\n",
      "Epoch 24/50\n",
      "1563/1563 [==============================] - 7s 5ms/step - loss: 0.6361 - accuracy: 0.7777\n",
      "Epoch 25/50\n",
      "1563/1563 [==============================] - 7s 5ms/step - loss: 0.6346 - accuracy: 0.7832\n",
      "Epoch 26/50\n",
      "1563/1563 [==============================] - 7s 5ms/step - loss: 0.6197 - accuracy: 0.7871\n",
      "Epoch 27/50\n",
      "1563/1563 [==============================] - 7s 5ms/step - loss: 0.6013 - accuracy: 0.7933\n",
      "Epoch 28/50\n",
      "1563/1563 [==============================] - 7s 5ms/step - loss: 0.6024 - accuracy: 0.7939\n",
      "Epoch 29/50\n",
      "1563/1563 [==============================] - 7s 5ms/step - loss: 0.5876 - accuracy: 0.7968\n",
      "Epoch 30/50\n",
      "1563/1563 [==============================] - 7s 5ms/step - loss: 0.5784 - accuracy: 0.8011\n",
      "Epoch 31/50\n",
      "1563/1563 [==============================] - 7s 5ms/step - loss: 0.5746 - accuracy: 0.8007\n",
      "Epoch 32/50\n",
      "1563/1563 [==============================] - 7s 5ms/step - loss: 0.5590 - accuracy: 0.8064\n",
      "Epoch 33/50\n",
      "1563/1563 [==============================] - 7s 5ms/step - loss: 0.5570 - accuracy: 0.8055\n",
      "Epoch 34/50\n",
      "1563/1563 [==============================] - 8s 5ms/step - loss: 0.5376 - accuracy: 0.8144\n",
      "Epoch 35/50\n",
      "1563/1563 [==============================] - 7s 5ms/step - loss: 0.5427 - accuracy: 0.8136\n",
      "Epoch 36/50\n",
      "1563/1563 [==============================] - 8s 5ms/step - loss: 0.5335 - accuracy: 0.8156\n",
      "Epoch 37/50\n",
      "1563/1563 [==============================] - 8s 5ms/step - loss: 0.5208 - accuracy: 0.8213\n",
      "Epoch 38/50\n",
      "1563/1563 [==============================] - 8s 5ms/step - loss: 0.5116 - accuracy: 0.8254\n",
      "Epoch 39/50\n",
      "1563/1563 [==============================] - 7s 5ms/step - loss: 0.5077 - accuracy: 0.8260\n",
      "Epoch 40/50\n",
      "1563/1563 [==============================] - 8s 5ms/step - loss: 0.5033 - accuracy: 0.8266\n",
      "Epoch 41/50\n",
      "1563/1563 [==============================] - 7s 5ms/step - loss: 0.4983 - accuracy: 0.8286\n",
      "Epoch 42/50\n",
      "1563/1563 [==============================] - 7s 5ms/step - loss: 0.4933 - accuracy: 0.8281\n",
      "Epoch 43/50\n",
      "1563/1563 [==============================] - 7s 5ms/step - loss: 0.4792 - accuracy: 0.8361\n",
      "Epoch 44/50\n",
      "1563/1563 [==============================] - 8s 5ms/step - loss: 0.4835 - accuracy: 0.8321\n",
      "Epoch 45/50\n",
      "1563/1563 [==============================] - 8s 5ms/step - loss: 0.4637 - accuracy: 0.8381\n",
      "Epoch 46/50\n",
      "1563/1563 [==============================] - 8s 5ms/step - loss: 0.4631 - accuracy: 0.8407\n",
      "Epoch 47/50\n",
      "1563/1563 [==============================] - 8s 5ms/step - loss: 0.4563 - accuracy: 0.8427\n",
      "Epoch 48/50\n",
      "1563/1563 [==============================] - 7s 5ms/step - loss: 0.4477 - accuracy: 0.8456\n",
      "Epoch 49/50\n",
      "1563/1563 [==============================] - 7s 5ms/step - loss: 0.4532 - accuracy: 0.8417\n",
      "Epoch 50/50\n",
      "1563/1563 [==============================] - 8s 5ms/step - loss: 0.4422 - accuracy: 0.8465\n"
     ]
    },
    {
     "output_type": "execute_result",
     "data": {
      "text/plain": [
       "<keras.callbacks.History at 0x29a8c043850>"
      ]
     },
     "metadata": {},
     "execution_count": 19
    }
   ],
   "source": [
    "from keras.preprocessing.image import ImageDataGenerator\n",
    "from keras.models import Sequential\n",
    "from keras.layers import Conv2D\n",
    "from keras.layers import MaxPooling2D\n",
    "from keras.layers import Dense\n",
    "from keras.layers import Flatten\n",
    "from keras.layers import Dropout\n",
    "from keras.layers import BatchNormalization\n",
    "\n",
    "def cnn_best():\n",
    "\tmodel = Sequential()\n",
    "\tmodel.add(Conv2D(32, (3, 3), activation='relu', kernel_initializer='he_uniform', padding='same', input_shape=(32, 32, 3)))\n",
    "\tmodel.add(BatchNormalization())\n",
    "\tmodel.add(Conv2D(32, (3, 3), activation='relu', kernel_initializer='he_uniform', padding='same'))\n",
    "\tmodel.add(BatchNormalization())\n",
    "\tmodel.add(MaxPooling2D((2, 2)))\n",
    "\tmodel.add(Dropout(0.2))\n",
    "\tmodel.add(Conv2D(64, (3, 3), activation='relu', kernel_initializer='he_uniform', padding='same'))\n",
    "\tmodel.add(BatchNormalization())\n",
    "\tmodel.add(Conv2D(64, (3, 3), activation='relu', kernel_initializer='he_uniform', padding='same'))\n",
    "\tmodel.add(BatchNormalization())\n",
    "\tmodel.add(MaxPooling2D((2, 2)))\n",
    "\tmodel.add(Dropout(0.3))\n",
    "\tmodel.add(Conv2D(128, (3, 3), activation='relu', kernel_initializer='he_uniform', padding='same'))\n",
    "\tmodel.add(BatchNormalization())\n",
    "\tmodel.add(Conv2D(128, (3, 3), activation='relu', kernel_initializer='he_uniform', padding='same'))\n",
    "\tmodel.add(BatchNormalization())\n",
    "\tmodel.add(MaxPooling2D((2, 2)))\n",
    "\tmodel.add(Dropout(0.4))\n",
    "\tmodel.add(Flatten())\n",
    "\tmodel.add(Dense(128, activation='relu', kernel_initializer='he_uniform'))\n",
    "\tmodel.add(BatchNormalization())\n",
    "\tmodel.add(Dropout(0.5))\n",
    "\tmodel.add(Dense(10, activation='softmax'))\n",
    "\t# compile model\n",
    "\tmodel.compile(optimizer=\"SGD\", loss='sparse_categorical_crossentropy', metrics=['accuracy'])\n",
    "\treturn model\n",
    "\n",
    "cnn_best = cnn_best()\n",
    "\n",
    "cnn_best.fit(X_train, y_train, epochs=50)"
   ]
  },
  {
   "cell_type": "code",
   "execution_count": 20,
   "metadata": {},
   "outputs": [
    {
     "output_type": "stream",
     "name": "stdout",
     "text": [
      "Classification Report: \n               precision    recall  f1-score   support\n\n           0       0.87      0.84      0.85      1000\n           1       0.94      0.91      0.92      1000\n           2       0.83      0.73      0.77      1000\n           3       0.76      0.63      0.69      1000\n           4       0.74      0.90      0.81      1000\n           5       0.78      0.76      0.77      1000\n           6       0.84      0.92      0.88      1000\n           7       0.88      0.86      0.87      1000\n           8       0.88      0.94      0.91      1000\n           9       0.90      0.92      0.91      1000\n\n    accuracy                           0.84     10000\n   macro avg       0.84      0.84      0.84     10000\nweighted avg       0.84      0.84      0.84     10000\n\n"
     ]
    }
   ],
   "source": [
    "y_pred = cnn_best.predict(X_test)\n",
    "y_pred_class = [np.argmax(x) for x in y_pred] # argmax returns the index of the maximum value in the array\n",
    "\n",
    "print(\"Classification Report: \\n\", classification_report(y_test, y_pred_class))"
   ]
  },
  {
   "cell_type": "code",
   "execution_count": null,
   "metadata": {},
   "outputs": [],
   "source": []
  }
 ]
}