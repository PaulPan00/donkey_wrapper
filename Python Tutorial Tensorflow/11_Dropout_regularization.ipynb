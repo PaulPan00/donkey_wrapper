{
 "metadata": {
  "language_info": {
   "codemirror_mode": {
    "name": "ipython",
    "version": 3
   },
   "file_extension": ".py",
   "mimetype": "text/x-python",
   "name": "python",
   "nbconvert_exporter": "python",
   "pygments_lexer": "ipython3",
   "version": "3.8.5"
  },
  "orig_nbformat": 4,
  "kernelspec": {
   "name": "python3",
   "display_name": "Python 3.8.5 64-bit ('base': conda)"
  },
  "interpreter": {
   "hash": "ecf5722fdaf1897a315d257d89d94520bfcaa453217d5becf09b39e73618b0de"
  }
 },
 "nbformat": 4,
 "nbformat_minor": 2,
 "cells": [
  {
   "source": [
    "## Overfitting vs Underfitting\n",
    "\n",
    "<img src=\"https://media.geeksforgeeks.org/wp-content/cdn-uploads/20190523171258/overfitting_2.png\" alt=\"img\" width=\"700\"/>\n",
    "\n",
    "### Dropout neurons help with overfitting and avoid bias"
   ],
   "cell_type": "markdown",
   "metadata": {}
  },
  {
   "source": [
    "## Preprocessing Data"
   ],
   "cell_type": "markdown",
   "metadata": {}
  },
  {
   "cell_type": "code",
   "execution_count": 87,
   "metadata": {},
   "outputs": [
    {
     "output_type": "stream",
     "name": "stdout",
     "text": [
      "(208, 61)\nInt64Index([ 0,  1,  2,  3,  4,  5,  6,  7,  8,  9, 10, 11, 12, 13, 14, 15, 16,\n            17, 18, 19, 20, 21, 22, 23, 24, 25, 26, 27, 28, 29, 30, 31, 32, 33,\n            34, 35, 36, 37, 38, 39, 40, 41, 42, 43, 44, 45, 46, 47, 48, 49, 50,\n            51, 52, 53, 54, 55, 56, 57, 58, 59, 60],\n           dtype='int64')\nM    111\nR     97\nName: 60, dtype: int64\n"
     ]
    },
    {
     "output_type": "execute_result",
     "data": {
      "text/plain": [
       "         0       1       2       3       4       5       6       7       8   \\\n",
       "77   0.0336  0.0294  0.0476  0.0539  0.0794  0.0804  0.1136  0.1228  0.1235   \n",
       "50   0.0353  0.0713  0.0326  0.0272  0.0370  0.0792  0.1083  0.0687  0.0298   \n",
       "93   0.0459  0.0437  0.0347  0.0456  0.0067  0.0890  0.1798  0.1741  0.1598   \n",
       "179  0.0394  0.0420  0.0446  0.0551  0.0597  0.1416  0.0956  0.0802  0.1618   \n",
       "190  0.0156  0.0210  0.0282  0.0596  0.0462  0.0779  0.1365  0.0780  0.1038   \n",
       "\n",
       "         9   ...      51      52      53      54      55      56      57  \\\n",
       "77   0.0842  ...  0.0150  0.0111  0.0032  0.0035  0.0169  0.0137  0.0015   \n",
       "50   0.0880  ...  0.0163  0.0242  0.0043  0.0202  0.0108  0.0037  0.0096   \n",
       "93   0.1408  ...  0.0067  0.0032  0.0109  0.0164  0.0151  0.0070  0.0085   \n",
       "179  0.2558  ...  0.0146  0.0040  0.0114  0.0032  0.0062  0.0101  0.0068   \n",
       "190  0.1567  ...  0.0150  0.0060  0.0082  0.0091  0.0038  0.0056  0.0056   \n",
       "\n",
       "         58      59  60  \n",
       "77   0.0069  0.0051   R  \n",
       "50   0.0093  0.0053   R  \n",
       "93   0.0117  0.0056   R  \n",
       "179  0.0053  0.0087   M  \n",
       "190  0.0048  0.0024   M  \n",
       "\n",
       "[5 rows x 61 columns]"
      ],
      "text/html": "<div>\n<style scoped>\n    .dataframe tbody tr th:only-of-type {\n        vertical-align: middle;\n    }\n\n    .dataframe tbody tr th {\n        vertical-align: top;\n    }\n\n    .dataframe thead th {\n        text-align: right;\n    }\n</style>\n<table border=\"1\" class=\"dataframe\">\n  <thead>\n    <tr style=\"text-align: right;\">\n      <th></th>\n      <th>0</th>\n      <th>1</th>\n      <th>2</th>\n      <th>3</th>\n      <th>4</th>\n      <th>5</th>\n      <th>6</th>\n      <th>7</th>\n      <th>8</th>\n      <th>9</th>\n      <th>...</th>\n      <th>51</th>\n      <th>52</th>\n      <th>53</th>\n      <th>54</th>\n      <th>55</th>\n      <th>56</th>\n      <th>57</th>\n      <th>58</th>\n      <th>59</th>\n      <th>60</th>\n    </tr>\n  </thead>\n  <tbody>\n    <tr>\n      <th>77</th>\n      <td>0.0336</td>\n      <td>0.0294</td>\n      <td>0.0476</td>\n      <td>0.0539</td>\n      <td>0.0794</td>\n      <td>0.0804</td>\n      <td>0.1136</td>\n      <td>0.1228</td>\n      <td>0.1235</td>\n      <td>0.0842</td>\n      <td>...</td>\n      <td>0.0150</td>\n      <td>0.0111</td>\n      <td>0.0032</td>\n      <td>0.0035</td>\n      <td>0.0169</td>\n      <td>0.0137</td>\n      <td>0.0015</td>\n      <td>0.0069</td>\n      <td>0.0051</td>\n      <td>R</td>\n    </tr>\n    <tr>\n      <th>50</th>\n      <td>0.0353</td>\n      <td>0.0713</td>\n      <td>0.0326</td>\n      <td>0.0272</td>\n      <td>0.0370</td>\n      <td>0.0792</td>\n      <td>0.1083</td>\n      <td>0.0687</td>\n      <td>0.0298</td>\n      <td>0.0880</td>\n      <td>...</td>\n      <td>0.0163</td>\n      <td>0.0242</td>\n      <td>0.0043</td>\n      <td>0.0202</td>\n      <td>0.0108</td>\n      <td>0.0037</td>\n      <td>0.0096</td>\n      <td>0.0093</td>\n      <td>0.0053</td>\n      <td>R</td>\n    </tr>\n    <tr>\n      <th>93</th>\n      <td>0.0459</td>\n      <td>0.0437</td>\n      <td>0.0347</td>\n      <td>0.0456</td>\n      <td>0.0067</td>\n      <td>0.0890</td>\n      <td>0.1798</td>\n      <td>0.1741</td>\n      <td>0.1598</td>\n      <td>0.1408</td>\n      <td>...</td>\n      <td>0.0067</td>\n      <td>0.0032</td>\n      <td>0.0109</td>\n      <td>0.0164</td>\n      <td>0.0151</td>\n      <td>0.0070</td>\n      <td>0.0085</td>\n      <td>0.0117</td>\n      <td>0.0056</td>\n      <td>R</td>\n    </tr>\n    <tr>\n      <th>179</th>\n      <td>0.0394</td>\n      <td>0.0420</td>\n      <td>0.0446</td>\n      <td>0.0551</td>\n      <td>0.0597</td>\n      <td>0.1416</td>\n      <td>0.0956</td>\n      <td>0.0802</td>\n      <td>0.1618</td>\n      <td>0.2558</td>\n      <td>...</td>\n      <td>0.0146</td>\n      <td>0.0040</td>\n      <td>0.0114</td>\n      <td>0.0032</td>\n      <td>0.0062</td>\n      <td>0.0101</td>\n      <td>0.0068</td>\n      <td>0.0053</td>\n      <td>0.0087</td>\n      <td>M</td>\n    </tr>\n    <tr>\n      <th>190</th>\n      <td>0.0156</td>\n      <td>0.0210</td>\n      <td>0.0282</td>\n      <td>0.0596</td>\n      <td>0.0462</td>\n      <td>0.0779</td>\n      <td>0.1365</td>\n      <td>0.0780</td>\n      <td>0.1038</td>\n      <td>0.1567</td>\n      <td>...</td>\n      <td>0.0150</td>\n      <td>0.0060</td>\n      <td>0.0082</td>\n      <td>0.0091</td>\n      <td>0.0038</td>\n      <td>0.0056</td>\n      <td>0.0056</td>\n      <td>0.0048</td>\n      <td>0.0024</td>\n      <td>M</td>\n    </tr>\n  </tbody>\n</table>\n<p>5 rows × 61 columns</p>\n</div>"
     },
     "metadata": {},
     "execution_count": 87
    }
   ],
   "source": [
    "import warnings\n",
    "import numpy as np\n",
    "import pandas as pd\n",
    "import seaborn as sn\n",
    "import tensorflow as tf\n",
    "from tensorflow import keras\n",
    "import matplotlib.pyplot as plt\n",
    "from sklearn.model_selection import train_test_split\n",
    "from sklearn.metrics import confusion_matrix, classification_report\n",
    "\n",
    "warnings.filterwarnings(\"ignore\")\n",
    "\n",
    "df = pd.read_csv(\"11_Sonar_dataset.csv\", header=None) # this file doesn't have headers or column names\n",
    "\n",
    "print(df.shape)\n",
    "print(df.columns)\n",
    "print(df[60].value_counts())\n",
    "df.sample(5)"
   ]
  },
  {
   "cell_type": "code",
   "execution_count": 88,
   "metadata": {},
   "outputs": [
    {
     "output_type": "execute_result",
     "data": {
      "text/plain": [
       "R\n",
       "0    111\n",
       "1     97\n",
       "dtype: int64"
      ]
     },
     "metadata": {},
     "execution_count": 88
    }
   ],
   "source": [
    "X = df.drop(60, axis=\"columns\")\n",
    "y = df[60]\n",
    "\n",
    "y = pd.get_dummies(y, drop_first=True) # apply one hot encoding\n",
    "y.value_counts()"
   ]
  },
  {
   "cell_type": "code",
   "execution_count": 89,
   "metadata": {},
   "outputs": [
    {
     "output_type": "execute_result",
     "data": {
      "text/plain": [
       "(166, 60)"
      ]
     },
     "metadata": {},
     "execution_count": 89
    }
   ],
   "source": [
    "X_train, X_test, y_train, y_test = train_test_split(X, y, test_size=0.2, random_state=1)\n",
    "X_train.shape"
   ]
  },
  {
   "source": [
    "## Overfitting Model"
   ],
   "cell_type": "markdown",
   "metadata": {}
  },
  {
   "cell_type": "code",
   "execution_count": 90,
   "metadata": {},
   "outputs": [
    {
     "output_type": "stream",
     "name": "stdout",
     "text": [
      "Epoch 1/100\n",
      "21/21 [==============================] - 0s 2ms/step - loss: 0.6813 - accuracy: 0.5361\n",
      "Epoch 2/100\n",
      "21/21 [==============================] - 0s 2ms/step - loss: 0.6571 - accuracy: 0.5602\n",
      "Epoch 3/100\n",
      "21/21 [==============================] - 0s 2ms/step - loss: 0.6284 - accuracy: 0.6205\n",
      "Epoch 4/100\n",
      "21/21 [==============================] - 0s 2ms/step - loss: 0.5971 - accuracy: 0.7048\n",
      "Epoch 5/100\n",
      "21/21 [==============================] - 0s 2ms/step - loss: 0.5558 - accuracy: 0.7711\n",
      "Epoch 6/100\n",
      "21/21 [==============================] - 0s 2ms/step - loss: 0.5419 - accuracy: 0.7229\n",
      "Epoch 7/100\n",
      "21/21 [==============================] - 0s 2ms/step - loss: 0.4982 - accuracy: 0.8012\n",
      "Epoch 8/100\n",
      "21/21 [==============================] - 0s 2ms/step - loss: 0.4540 - accuracy: 0.7952\n",
      "Epoch 9/100\n",
      "21/21 [==============================] - 0s 2ms/step - loss: 0.4250 - accuracy: 0.8193\n",
      "Epoch 10/100\n",
      "21/21 [==============================] - 0s 2ms/step - loss: 0.3829 - accuracy: 0.8855\n",
      "Epoch 11/100\n",
      "21/21 [==============================] - 0s 2ms/step - loss: 0.3499 - accuracy: 0.8795\n",
      "Epoch 12/100\n",
      "21/21 [==============================] - 0s 2ms/step - loss: 0.4308 - accuracy: 0.7651\n",
      "Epoch 13/100\n",
      "21/21 [==============================] - 0s 2ms/step - loss: 0.3364 - accuracy: 0.8855\n",
      "Epoch 14/100\n",
      "21/21 [==============================] - 0s 2ms/step - loss: 0.3136 - accuracy: 0.8916\n",
      "Epoch 15/100\n",
      "21/21 [==============================] - 0s 2ms/step - loss: 0.2807 - accuracy: 0.8855\n",
      "Epoch 16/100\n",
      "21/21 [==============================] - 0s 2ms/step - loss: 0.2914 - accuracy: 0.8795\n",
      "Epoch 17/100\n",
      "21/21 [==============================] - 0s 2ms/step - loss: 0.2554 - accuracy: 0.9337\n",
      "Epoch 18/100\n",
      "21/21 [==============================] - 0s 2ms/step - loss: 0.2401 - accuracy: 0.9398\n",
      "Epoch 19/100\n",
      "21/21 [==============================] - 0s 2ms/step - loss: 0.2421 - accuracy: 0.9157\n",
      "Epoch 20/100\n",
      "21/21 [==============================] - 0s 2ms/step - loss: 0.2321 - accuracy: 0.8976\n",
      "Epoch 21/100\n",
      "21/21 [==============================] - 0s 2ms/step - loss: 0.2122 - accuracy: 0.9398\n",
      "Epoch 22/100\n",
      "21/21 [==============================] - 0s 2ms/step - loss: 0.1947 - accuracy: 0.9458\n",
      "Epoch 23/100\n",
      "21/21 [==============================] - 0s 2ms/step - loss: 0.2146 - accuracy: 0.9096\n",
      "Epoch 24/100\n",
      "21/21 [==============================] - 0s 2ms/step - loss: 0.1909 - accuracy: 0.9217\n",
      "Epoch 25/100\n",
      "21/21 [==============================] - 0s 2ms/step - loss: 0.1641 - accuracy: 0.9639\n",
      "Epoch 26/100\n",
      "21/21 [==============================] - 0s 2ms/step - loss: 0.1901 - accuracy: 0.9157\n",
      "Epoch 27/100\n",
      "21/21 [==============================] - 0s 2ms/step - loss: 0.1572 - accuracy: 0.9518\n",
      "Epoch 28/100\n",
      "21/21 [==============================] - 0s 2ms/step - loss: 0.1323 - accuracy: 0.9699\n",
      "Epoch 29/100\n",
      "21/21 [==============================] - 0s 2ms/step - loss: 0.1394 - accuracy: 0.9699\n",
      "Epoch 30/100\n",
      "21/21 [==============================] - 0s 2ms/step - loss: 0.1370 - accuracy: 0.9398\n",
      "Epoch 31/100\n",
      "21/21 [==============================] - 0s 2ms/step - loss: 0.1168 - accuracy: 0.9699\n",
      "Epoch 32/100\n",
      "21/21 [==============================] - 0s 2ms/step - loss: 0.1241 - accuracy: 0.9578\n",
      "Epoch 33/100\n",
      "21/21 [==============================] - 0s 2ms/step - loss: 0.0868 - accuracy: 0.9880\n",
      "Epoch 34/100\n",
      "21/21 [==============================] - 0s 2ms/step - loss: 0.0927 - accuracy: 0.9759\n",
      "Epoch 35/100\n",
      "21/21 [==============================] - 0s 2ms/step - loss: 0.0769 - accuracy: 0.9759\n",
      "Epoch 36/100\n",
      "21/21 [==============================] - 0s 2ms/step - loss: 0.0804 - accuracy: 0.9880\n",
      "Epoch 37/100\n",
      "21/21 [==============================] - 0s 2ms/step - loss: 0.0774 - accuracy: 0.9940\n",
      "Epoch 38/100\n",
      "21/21 [==============================] - 0s 2ms/step - loss: 0.0564 - accuracy: 1.0000\n",
      "Epoch 39/100\n",
      "21/21 [==============================] - 0s 2ms/step - loss: 0.0500 - accuracy: 1.0000\n",
      "Epoch 40/100\n",
      "21/21 [==============================] - 0s 2ms/step - loss: 0.0502 - accuracy: 1.0000\n",
      "Epoch 41/100\n",
      "21/21 [==============================] - 0s 2ms/step - loss: 0.0473 - accuracy: 1.0000\n",
      "Epoch 42/100\n",
      "21/21 [==============================] - 0s 2ms/step - loss: 0.0383 - accuracy: 1.0000\n",
      "Epoch 43/100\n",
      "21/21 [==============================] - 0s 2ms/step - loss: 0.0333 - accuracy: 1.0000\n",
      "Epoch 44/100\n",
      "21/21 [==============================] - 0s 2ms/step - loss: 0.0326 - accuracy: 1.0000\n",
      "Epoch 45/100\n",
      "21/21 [==============================] - 0s 2ms/step - loss: 0.0323 - accuracy: 1.0000\n",
      "Epoch 46/100\n",
      "21/21 [==============================] - 0s 2ms/step - loss: 0.0274 - accuracy: 1.0000\n",
      "Epoch 47/100\n",
      "21/21 [==============================] - 0s 2ms/step - loss: 0.0235 - accuracy: 1.0000\n",
      "Epoch 48/100\n",
      "21/21 [==============================] - 0s 2ms/step - loss: 0.0238 - accuracy: 1.0000\n",
      "Epoch 49/100\n",
      "21/21 [==============================] - 0s 2ms/step - loss: 0.0235 - accuracy: 1.0000\n",
      "Epoch 50/100\n",
      "21/21 [==============================] - 0s 2ms/step - loss: 0.0220 - accuracy: 1.0000\n",
      "Epoch 51/100\n",
      "21/21 [==============================] - 0s 2ms/step - loss: 0.0184 - accuracy: 1.0000\n",
      "Epoch 52/100\n",
      "21/21 [==============================] - 0s 2ms/step - loss: 0.0168 - accuracy: 1.0000\n",
      "Epoch 53/100\n",
      "21/21 [==============================] - 0s 2ms/step - loss: 0.0144 - accuracy: 1.0000\n",
      "Epoch 54/100\n",
      "21/21 [==============================] - 0s 2ms/step - loss: 0.0160 - accuracy: 1.0000\n",
      "Epoch 55/100\n",
      "21/21 [==============================] - 0s 2ms/step - loss: 0.0117 - accuracy: 1.0000\n",
      "Epoch 56/100\n",
      "21/21 [==============================] - 0s 2ms/step - loss: 0.0139 - accuracy: 1.0000\n",
      "Epoch 57/100\n",
      "21/21 [==============================] - 0s 2ms/step - loss: 0.0138 - accuracy: 1.0000\n",
      "Epoch 58/100\n",
      "21/21 [==============================] - 0s 2ms/step - loss: 0.0114 - accuracy: 1.0000\n",
      "Epoch 59/100\n",
      "21/21 [==============================] - 0s 2ms/step - loss: 0.0100 - accuracy: 1.0000\n",
      "Epoch 60/100\n",
      "21/21 [==============================] - 0s 2ms/step - loss: 0.0085 - accuracy: 1.0000\n",
      "Epoch 61/100\n",
      "21/21 [==============================] - 0s 2ms/step - loss: 0.0091 - accuracy: 1.0000\n",
      "Epoch 62/100\n",
      "21/21 [==============================] - 0s 2ms/step - loss: 0.0107 - accuracy: 1.0000\n",
      "Epoch 63/100\n",
      "21/21 [==============================] - 0s 2ms/step - loss: 0.0076 - accuracy: 1.0000\n",
      "Epoch 64/100\n",
      "21/21 [==============================] - 0s 2ms/step - loss: 0.0066 - accuracy: 1.0000\n",
      "Epoch 65/100\n",
      "21/21 [==============================] - 0s 2ms/step - loss: 0.0072 - accuracy: 1.0000\n",
      "Epoch 66/100\n",
      "21/21 [==============================] - 0s 2ms/step - loss: 0.0064 - accuracy: 1.0000\n",
      "Epoch 67/100\n",
      "21/21 [==============================] - 0s 2ms/step - loss: 0.0058 - accuracy: 1.0000\n",
      "Epoch 68/100\n",
      "21/21 [==============================] - 0s 2ms/step - loss: 0.0051 - accuracy: 1.0000\n",
      "Epoch 69/100\n",
      "21/21 [==============================] - 0s 2ms/step - loss: 0.0049 - accuracy: 1.0000\n",
      "Epoch 70/100\n",
      "21/21 [==============================] - 0s 2ms/step - loss: 0.0046 - accuracy: 1.0000\n",
      "Epoch 71/100\n",
      "21/21 [==============================] - 0s 2ms/step - loss: 0.0045 - accuracy: 1.0000\n",
      "Epoch 72/100\n",
      "21/21 [==============================] - 0s 2ms/step - loss: 0.0043 - accuracy: 1.0000\n",
      "Epoch 73/100\n",
      "21/21 [==============================] - 0s 2ms/step - loss: 0.0039 - accuracy: 1.0000\n",
      "Epoch 74/100\n",
      "21/21 [==============================] - 0s 2ms/step - loss: 0.0039 - accuracy: 1.0000\n",
      "Epoch 75/100\n",
      "21/21 [==============================] - 0s 2ms/step - loss: 0.0035 - accuracy: 1.0000\n",
      "Epoch 76/100\n",
      "21/21 [==============================] - 0s 2ms/step - loss: 0.0036 - accuracy: 1.0000\n",
      "Epoch 77/100\n",
      "21/21 [==============================] - 0s 2ms/step - loss: 0.0038 - accuracy: 1.0000\n",
      "Epoch 78/100\n",
      "21/21 [==============================] - 0s 2ms/step - loss: 0.0032 - accuracy: 1.0000\n",
      "Epoch 79/100\n",
      "21/21 [==============================] - 0s 2ms/step - loss: 0.0031 - accuracy: 1.0000\n",
      "Epoch 80/100\n",
      "21/21 [==============================] - 0s 2ms/step - loss: 0.0030 - accuracy: 1.0000\n",
      "Epoch 81/100\n",
      "21/21 [==============================] - 0s 2ms/step - loss: 0.0029 - accuracy: 1.0000\n",
      "Epoch 82/100\n",
      "21/21 [==============================] - 0s 2ms/step - loss: 0.0027 - accuracy: 1.0000\n",
      "Epoch 83/100\n",
      "21/21 [==============================] - 0s 2ms/step - loss: 0.0025 - accuracy: 1.0000\n",
      "Epoch 84/100\n",
      "21/21 [==============================] - 0s 2ms/step - loss: 0.0025 - accuracy: 1.0000\n",
      "Epoch 85/100\n",
      "21/21 [==============================] - 0s 2ms/step - loss: 0.0023 - accuracy: 1.0000\n",
      "Epoch 86/100\n",
      "21/21 [==============================] - 0s 2ms/step - loss: 0.0023 - accuracy: 1.0000\n",
      "Epoch 87/100\n",
      "21/21 [==============================] - 0s 2ms/step - loss: 0.0022 - accuracy: 1.0000\n",
      "Epoch 88/100\n",
      "21/21 [==============================] - 0s 2ms/step - loss: 0.0023 - accuracy: 1.0000\n",
      "Epoch 89/100\n",
      "21/21 [==============================] - 0s 2ms/step - loss: 0.0022 - accuracy: 1.0000\n",
      "Epoch 90/100\n",
      "21/21 [==============================] - 0s 2ms/step - loss: 0.0021 - accuracy: 1.0000\n",
      "Epoch 91/100\n",
      "21/21 [==============================] - 0s 2ms/step - loss: 0.0019 - accuracy: 1.0000\n",
      "Epoch 92/100\n",
      "21/21 [==============================] - 0s 2ms/step - loss: 0.0019 - accuracy: 1.0000\n",
      "Epoch 93/100\n",
      "21/21 [==============================] - 0s 2ms/step - loss: 0.0018 - accuracy: 1.0000\n",
      "Epoch 94/100\n",
      "21/21 [==============================] - 0s 2ms/step - loss: 0.0017 - accuracy: 1.0000\n",
      "Epoch 95/100\n",
      "21/21 [==============================] - 0s 2ms/step - loss: 0.0016 - accuracy: 1.0000\n",
      "Epoch 96/100\n",
      "21/21 [==============================] - 0s 2ms/step - loss: 0.0016 - accuracy: 1.0000\n",
      "Epoch 97/100\n",
      "21/21 [==============================] - 0s 2ms/step - loss: 0.0015 - accuracy: 1.0000\n",
      "Epoch 98/100\n",
      "21/21 [==============================] - 0s 2ms/step - loss: 0.0016 - accuracy: 1.0000\n",
      "Epoch 99/100\n",
      "21/21 [==============================] - 0s 2ms/step - loss: 0.0015 - accuracy: 1.0000\n",
      "Epoch 100/100\n",
      "21/21 [==============================] - 0s 2ms/step - loss: 0.0014 - accuracy: 1.0000\n"
     ]
    },
    {
     "output_type": "execute_result",
     "data": {
      "text/plain": [
       "<tensorflow.python.keras.callbacks.History at 0x20d7dec5c70>"
      ]
     },
     "metadata": {},
     "execution_count": 90
    }
   ],
   "source": [
    "model = keras.Sequential([\n",
    "    keras.layers.Dense(60, input_shape=(60, ), activation=\"relu\"),\n",
    "    keras.layers.Dense(30, activation=\"relu\"),\n",
    "    keras.layers.Dense(15, activation=\"relu\"),\n",
    "    keras.layers.Dense(1, activation=\"sigmoid\")\n",
    "])\n",
    "model.compile(optimizer=\"adam\", loss=\"binary_crossentropy\", metrics=[\"accuracy\"])\n",
    "\n",
    "model.fit(X_train, y_train, epochs=100, batch_size=8) # mini_batch method"
   ]
  },
  {
   "cell_type": "code",
   "execution_count": 91,
   "metadata": {},
   "outputs": [
    {
     "output_type": "stream",
     "name": "stdout",
     "text": [
      "2/2 [==============================] - 0s 3ms/step - loss: 1.1552 - accuracy: 0.7381\n"
     ]
    },
    {
     "output_type": "execute_result",
     "data": {
      "text/plain": [
       "[1.1551778316497803, 0.738095223903656]"
      ]
     },
     "metadata": {},
     "execution_count": 91
    }
   ],
   "source": [
    "model.evaluate(X_test, y_test)"
   ]
  },
  {
   "cell_type": "code",
   "execution_count": 92,
   "metadata": {},
   "outputs": [
    {
     "output_type": "stream",
     "name": "stdout",
     "text": [
      "pred, actual \n [[0. 0.]\n [1. 0.]\n [1. 0.]\n [0. 0.]\n [1. 1.]\n [1. 1.]\n [0. 0.]\n [1. 1.]\n [0. 0.]\n [1. 1.]]\n"
     ]
    }
   ],
   "source": [
    "y_pred = model.predict(X_test).reshape(-1)\n",
    "y_pred = np.round(y_pred)\n",
    "print(\"pred, actual\", \"\\n\", np.c_[y_pred, y_test][:10])"
   ]
  },
  {
   "cell_type": "code",
   "execution_count": 93,
   "metadata": {},
   "outputs": [
    {
     "output_type": "stream",
     "name": "stdout",
     "text": [
      "              precision    recall  f1-score   support\n\n           0       0.70      0.80      0.74        20\n           1       0.79      0.68      0.73        22\n\n    accuracy                           0.74        42\n   macro avg       0.74      0.74      0.74        42\nweighted avg       0.74      0.74      0.74        42\n\n"
     ]
    }
   ],
   "source": [
    "print(classification_report(y_test, y_pred))"
   ]
  },
  {
   "source": [
    "## Model with Dropout Layer"
   ],
   "cell_type": "markdown",
   "metadata": {}
  },
  {
   "cell_type": "code",
   "execution_count": 94,
   "metadata": {
    "tags": []
   },
   "outputs": [
    {
     "output_type": "stream",
     "name": "stdout",
     "text": [
      "Epoch 1/100\n",
      "21/21 [==============================] - 0s 2ms/step - loss: 0.7789 - accuracy: 0.4940\n",
      "Epoch 2/100\n",
      "21/21 [==============================] - 0s 2ms/step - loss: 0.7250 - accuracy: 0.4819\n",
      "Epoch 3/100\n",
      "21/21 [==============================] - 0s 2ms/step - loss: 0.7050 - accuracy: 0.5361\n",
      "Epoch 4/100\n",
      "21/21 [==============================] - 0s 2ms/step - loss: 0.7092 - accuracy: 0.4639\n",
      "Epoch 5/100\n",
      "21/21 [==============================] - 0s 2ms/step - loss: 0.6974 - accuracy: 0.4880\n",
      "Epoch 6/100\n",
      "21/21 [==============================] - 0s 2ms/step - loss: 0.6896 - accuracy: 0.5422\n",
      "Epoch 7/100\n",
      "21/21 [==============================] - 0s 2ms/step - loss: 0.6818 - accuracy: 0.5843\n",
      "Epoch 8/100\n",
      "21/21 [==============================] - 0s 2ms/step - loss: 0.7023 - accuracy: 0.5181\n",
      "Epoch 9/100\n",
      "21/21 [==============================] - 0s 2ms/step - loss: 0.6826 - accuracy: 0.5542\n",
      "Epoch 10/100\n",
      "21/21 [==============================] - 0s 2ms/step - loss: 0.6600 - accuracy: 0.5964\n",
      "Epoch 11/100\n",
      "21/21 [==============================] - 0s 2ms/step - loss: 0.6934 - accuracy: 0.5783\n",
      "Epoch 12/100\n",
      "21/21 [==============================] - 0s 2ms/step - loss: 0.6764 - accuracy: 0.5120\n",
      "Epoch 13/100\n",
      "21/21 [==============================] - 0s 2ms/step - loss: 0.6591 - accuracy: 0.6145\n",
      "Epoch 14/100\n",
      "21/21 [==============================] - 0s 2ms/step - loss: 0.7073 - accuracy: 0.5482\n",
      "Epoch 15/100\n",
      "21/21 [==============================] - 0s 2ms/step - loss: 0.6766 - accuracy: 0.5482\n",
      "Epoch 16/100\n",
      "21/21 [==============================] - 0s 2ms/step - loss: 0.6733 - accuracy: 0.5723\n",
      "Epoch 17/100\n",
      "21/21 [==============================] - 0s 2ms/step - loss: 0.6858 - accuracy: 0.5663\n",
      "Epoch 18/100\n",
      "21/21 [==============================] - 0s 2ms/step - loss: 0.6752 - accuracy: 0.6325\n",
      "Epoch 19/100\n",
      "21/21 [==============================] - 0s 2ms/step - loss: 0.6727 - accuracy: 0.5723\n",
      "Epoch 20/100\n",
      "21/21 [==============================] - 0s 2ms/step - loss: 0.6657 - accuracy: 0.6024\n",
      "Epoch 21/100\n",
      "21/21 [==============================] - 0s 2ms/step - loss: 0.6405 - accuracy: 0.6687\n",
      "Epoch 22/100\n",
      "21/21 [==============================] - 0s 2ms/step - loss: 0.6402 - accuracy: 0.6506\n",
      "Epoch 23/100\n",
      "21/21 [==============================] - 0s 2ms/step - loss: 0.6217 - accuracy: 0.6446\n",
      "Epoch 24/100\n",
      "21/21 [==============================] - 0s 2ms/step - loss: 0.6110 - accuracy: 0.6687\n",
      "Epoch 25/100\n",
      "21/21 [==============================] - 0s 2ms/step - loss: 0.6307 - accuracy: 0.6566\n",
      "Epoch 26/100\n",
      "21/21 [==============================] - 0s 2ms/step - loss: 0.6058 - accuracy: 0.6627\n",
      "Epoch 27/100\n",
      "21/21 [==============================] - 0s 2ms/step - loss: 0.6177 - accuracy: 0.6988\n",
      "Epoch 28/100\n",
      "21/21 [==============================] - 0s 2ms/step - loss: 0.5650 - accuracy: 0.7169\n",
      "Epoch 29/100\n",
      "21/21 [==============================] - 0s 2ms/step - loss: 0.5794 - accuracy: 0.6807\n",
      "Epoch 30/100\n",
      "21/21 [==============================] - 0s 2ms/step - loss: 0.5302 - accuracy: 0.7590\n",
      "Epoch 31/100\n",
      "21/21 [==============================] - 0s 2ms/step - loss: 0.5933 - accuracy: 0.6928\n",
      "Epoch 32/100\n",
      "21/21 [==============================] - 0s 2ms/step - loss: 0.5626 - accuracy: 0.6807\n",
      "Epoch 33/100\n",
      "21/21 [==============================] - 0s 2ms/step - loss: 0.5374 - accuracy: 0.7410\n",
      "Epoch 34/100\n",
      "21/21 [==============================] - 0s 2ms/step - loss: 0.5460 - accuracy: 0.7289\n",
      "Epoch 35/100\n",
      "21/21 [==============================] - 0s 2ms/step - loss: 0.5211 - accuracy: 0.7410\n",
      "Epoch 36/100\n",
      "21/21 [==============================] - 0s 2ms/step - loss: 0.5449 - accuracy: 0.7590\n",
      "Epoch 37/100\n",
      "21/21 [==============================] - 0s 2ms/step - loss: 0.5251 - accuracy: 0.7590\n",
      "Epoch 38/100\n",
      "21/21 [==============================] - 0s 2ms/step - loss: 0.5072 - accuracy: 0.7108\n",
      "Epoch 39/100\n",
      "21/21 [==============================] - 0s 2ms/step - loss: 0.4870 - accuracy: 0.7470\n",
      "Epoch 40/100\n",
      "21/21 [==============================] - 0s 2ms/step - loss: 0.5080 - accuracy: 0.7530\n",
      "Epoch 41/100\n",
      "21/21 [==============================] - 0s 2ms/step - loss: 0.4871 - accuracy: 0.7530\n",
      "Epoch 42/100\n",
      "21/21 [==============================] - 0s 2ms/step - loss: 0.4693 - accuracy: 0.7530\n",
      "Epoch 43/100\n",
      "21/21 [==============================] - 0s 2ms/step - loss: 0.4478 - accuracy: 0.8253\n",
      "Epoch 44/100\n",
      "21/21 [==============================] - 0s 2ms/step - loss: 0.4477 - accuracy: 0.7831\n",
      "Epoch 45/100\n",
      "21/21 [==============================] - 0s 2ms/step - loss: 0.4834 - accuracy: 0.7831\n",
      "Epoch 46/100\n",
      "21/21 [==============================] - 0s 2ms/step - loss: 0.4509 - accuracy: 0.8133\n",
      "Epoch 47/100\n",
      "21/21 [==============================] - 0s 2ms/step - loss: 0.4768 - accuracy: 0.8012\n",
      "Epoch 48/100\n",
      "21/21 [==============================] - 0s 2ms/step - loss: 0.4576 - accuracy: 0.7952\n",
      "Epoch 49/100\n",
      "21/21 [==============================] - 0s 2ms/step - loss: 0.4063 - accuracy: 0.8253\n",
      "Epoch 50/100\n",
      "21/21 [==============================] - 0s 2ms/step - loss: 0.4659 - accuracy: 0.7952\n",
      "Epoch 51/100\n",
      "21/21 [==============================] - 0s 2ms/step - loss: 0.4347 - accuracy: 0.8193\n",
      "Epoch 52/100\n",
      "21/21 [==============================] - 0s 2ms/step - loss: 0.4017 - accuracy: 0.8313\n",
      "Epoch 53/100\n",
      "21/21 [==============================] - 0s 2ms/step - loss: 0.3781 - accuracy: 0.8494\n",
      "Epoch 54/100\n",
      "21/21 [==============================] - 0s 2ms/step - loss: 0.4436 - accuracy: 0.8133\n",
      "Epoch 55/100\n",
      "21/21 [==============================] - 0s 2ms/step - loss: 0.3839 - accuracy: 0.8675\n",
      "Epoch 56/100\n",
      "21/21 [==============================] - 0s 2ms/step - loss: 0.4306 - accuracy: 0.8193\n",
      "Epoch 57/100\n",
      "21/21 [==============================] - 0s 2ms/step - loss: 0.4019 - accuracy: 0.8494\n",
      "Epoch 58/100\n",
      "21/21 [==============================] - 0s 2ms/step - loss: 0.3667 - accuracy: 0.8434\n",
      "Epoch 59/100\n",
      "21/21 [==============================] - 0s 2ms/step - loss: 0.3825 - accuracy: 0.8494\n",
      "Epoch 60/100\n",
      "21/21 [==============================] - 0s 2ms/step - loss: 0.4108 - accuracy: 0.7892\n",
      "Epoch 61/100\n",
      "21/21 [==============================] - 0s 2ms/step - loss: 0.3696 - accuracy: 0.8434\n",
      "Epoch 62/100\n",
      "21/21 [==============================] - 0s 2ms/step - loss: 0.3721 - accuracy: 0.8373\n",
      "Epoch 63/100\n",
      "21/21 [==============================] - 0s 2ms/step - loss: 0.3942 - accuracy: 0.8373\n",
      "Epoch 64/100\n",
      "21/21 [==============================] - 0s 2ms/step - loss: 0.4033 - accuracy: 0.8253\n",
      "Epoch 65/100\n",
      "21/21 [==============================] - 0s 2ms/step - loss: 0.4115 - accuracy: 0.8373\n",
      "Epoch 66/100\n",
      "21/21 [==============================] - 0s 2ms/step - loss: 0.3555 - accuracy: 0.8735\n",
      "Epoch 67/100\n",
      "21/21 [==============================] - 0s 2ms/step - loss: 0.3467 - accuracy: 0.8675\n",
      "Epoch 68/100\n",
      "21/21 [==============================] - 0s 2ms/step - loss: 0.3417 - accuracy: 0.8675\n",
      "Epoch 69/100\n",
      "21/21 [==============================] - 0s 2ms/step - loss: 0.3572 - accuracy: 0.8494\n",
      "Epoch 70/100\n",
      "21/21 [==============================] - 0s 2ms/step - loss: 0.3610 - accuracy: 0.8373\n",
      "Epoch 71/100\n",
      "21/21 [==============================] - 0s 2ms/step - loss: 0.3344 - accuracy: 0.8434\n",
      "Epoch 72/100\n",
      "21/21 [==============================] - 0s 2ms/step - loss: 0.3378 - accuracy: 0.8976\n",
      "Epoch 73/100\n",
      "21/21 [==============================] - 0s 2ms/step - loss: 0.3242 - accuracy: 0.8675\n",
      "Epoch 74/100\n",
      "21/21 [==============================] - 0s 2ms/step - loss: 0.2980 - accuracy: 0.8916\n",
      "Epoch 75/100\n",
      "21/21 [==============================] - 0s 2ms/step - loss: 0.3171 - accuracy: 0.8916\n",
      "Epoch 76/100\n",
      "21/21 [==============================] - 0s 2ms/step - loss: 0.3125 - accuracy: 0.8675\n",
      "Epoch 77/100\n",
      "21/21 [==============================] - 0s 2ms/step - loss: 0.3473 - accuracy: 0.8373\n",
      "Epoch 78/100\n",
      "21/21 [==============================] - 0s 2ms/step - loss: 0.3374 - accuracy: 0.8614\n",
      "Epoch 79/100\n",
      "21/21 [==============================] - 0s 2ms/step - loss: 0.3109 - accuracy: 0.9036\n",
      "Epoch 80/100\n",
      "21/21 [==============================] - 0s 2ms/step - loss: 0.3664 - accuracy: 0.8855\n",
      "Epoch 81/100\n",
      "21/21 [==============================] - 0s 2ms/step - loss: 0.3050 - accuracy: 0.9277\n",
      "Epoch 82/100\n",
      "21/21 [==============================] - 0s 2ms/step - loss: 0.3250 - accuracy: 0.8735\n",
      "Epoch 83/100\n",
      "21/21 [==============================] - 0s 2ms/step - loss: 0.2833 - accuracy: 0.8976\n",
      "Epoch 84/100\n",
      "21/21 [==============================] - 0s 2ms/step - loss: 0.2873 - accuracy: 0.9036\n",
      "Epoch 85/100\n",
      "21/21 [==============================] - 0s 2ms/step - loss: 0.3121 - accuracy: 0.8795\n",
      "Epoch 86/100\n",
      "21/21 [==============================] - 0s 2ms/step - loss: 0.3383 - accuracy: 0.8614\n",
      "Epoch 87/100\n",
      "21/21 [==============================] - 0s 2ms/step - loss: 0.3438 - accuracy: 0.8735\n",
      "Epoch 88/100\n",
      "21/21 [==============================] - 0s 2ms/step - loss: 0.2858 - accuracy: 0.9157\n",
      "Epoch 89/100\n",
      "21/21 [==============================] - 0s 2ms/step - loss: 0.3291 - accuracy: 0.9036\n",
      "Epoch 90/100\n",
      "21/21 [==============================] - 0s 2ms/step - loss: 0.2491 - accuracy: 0.9217\n",
      "Epoch 91/100\n",
      "21/21 [==============================] - 0s 2ms/step - loss: 0.2848 - accuracy: 0.8916\n",
      "Epoch 92/100\n",
      "21/21 [==============================] - 0s 2ms/step - loss: 0.2577 - accuracy: 0.9277\n",
      "Epoch 93/100\n",
      "21/21 [==============================] - 0s 2ms/step - loss: 0.2955 - accuracy: 0.8434\n",
      "Epoch 94/100\n",
      "21/21 [==============================] - 0s 2ms/step - loss: 0.3586 - accuracy: 0.8795\n",
      "Epoch 95/100\n",
      "21/21 [==============================] - 0s 2ms/step - loss: 0.2890 - accuracy: 0.8855\n",
      "Epoch 96/100\n",
      "21/21 [==============================] - 0s 2ms/step - loss: 0.2590 - accuracy: 0.8976\n",
      "Epoch 97/100\n",
      "21/21 [==============================] - 0s 2ms/step - loss: 0.2546 - accuracy: 0.9157\n",
      "Epoch 98/100\n",
      "21/21 [==============================] - 0s 2ms/step - loss: 0.2324 - accuracy: 0.9277\n",
      "Epoch 99/100\n",
      "21/21 [==============================] - 0s 2ms/step - loss: 0.2493 - accuracy: 0.9217\n",
      "Epoch 100/100\n",
      "21/21 [==============================] - 0s 2ms/step - loss: 0.2403 - accuracy: 0.9036\n"
     ]
    },
    {
     "output_type": "execute_result",
     "data": {
      "text/plain": [
       "<tensorflow.python.keras.callbacks.History at 0x20d7ae83790>"
      ]
     },
     "metadata": {},
     "execution_count": 94
    }
   ],
   "source": [
    "model_new = keras.Sequential([\n",
    "    keras.layers.Dense(60, input_shape=(60, ), activation=\"relu\"),\n",
    "    keras.layers.Dropout(0.5),\n",
    "    keras.layers.Dense(30, activation=\"relu\"),\n",
    "    keras.layers.Dropout(0.5),\n",
    "    keras.layers.Dense(15, activation=\"relu\"),\n",
    "    keras.layers.Dropout(0.5),\n",
    "    keras.layers.Dense(1, activation=\"sigmoid\")\n",
    "])\n",
    "model_new.compile(optimizer=\"adam\", loss=\"binary_crossentropy\", metrics=[\"accuracy\"])\n",
    "\n",
    "model_new.fit(X_train, y_train, epochs=100, batch_size=8)"
   ]
  },
  {
   "cell_type": "code",
   "execution_count": 95,
   "metadata": {},
   "outputs": [
    {
     "output_type": "stream",
     "name": "stdout",
     "text": [
      "2/2 [==============================] - 0s 3ms/step - loss: 0.5503 - accuracy: 0.7857\n"
     ]
    },
    {
     "output_type": "execute_result",
     "data": {
      "text/plain": [
       "[0.550304114818573, 0.7857142686843872]"
      ]
     },
     "metadata": {},
     "execution_count": 95
    }
   ],
   "source": [
    "model_new.evaluate(X_test, y_test)"
   ]
  },
  {
   "cell_type": "code",
   "execution_count": 96,
   "metadata": {},
   "outputs": [
    {
     "output_type": "stream",
     "name": "stdout",
     "text": [
      "              precision    recall  f1-score   support\n\n           0       0.76      0.80      0.78        20\n           1       0.81      0.77      0.79        22\n\n    accuracy                           0.79        42\n   macro avg       0.79      0.79      0.79        42\nweighted avg       0.79      0.79      0.79        42\n\n"
     ]
    }
   ],
   "source": [
    "y_pred_new = model_new.predict(X_test).reshape(-1)\n",
    "y_pred_new = np.round(y_pred_new)\n",
    "print(classification_report(y_test, y_pred_new))"
   ]
  }
 ]
}