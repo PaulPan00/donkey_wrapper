{
 "metadata": {
  "language_info": {
   "codemirror_mode": {
    "name": "ipython",
    "version": 3
   },
   "file_extension": ".py",
   "mimetype": "text/x-python",
   "name": "python",
   "nbconvert_exporter": "python",
   "pygments_lexer": "ipython3",
   "version": 3
  },
  "orig_nbformat": 4
 },
 "nbformat": 4,
 "nbformat_minor": 2,
 "cells": [
  {
   "source": [
    "## Valid Convolution\n",
    "### Not padding\n",
    "<br>\n",
    "\n",
    "## Same Convolution\n",
    "### padded to same input-output sizes\n",
    "\n",
    "<br>\n",
    "\n",
    "## Strides\n",
    "### Stride is the number of pixels shifts over the input matrix. \n",
    "### When the stride is 1, we move the filters 1 pixel at a time.\n",
    "\n",
    "    model.add(Conv2D(filters=32, kernel_size=(3, 3), activation='relu', strides=(1, 1), padding='same | valid'))"
   ],
   "cell_type": "markdown",
   "metadata": {}
  },
  {
   "cell_type": "code",
   "execution_count": null,
   "metadata": {},
   "outputs": [],
   "source": []
  }
 ]
}