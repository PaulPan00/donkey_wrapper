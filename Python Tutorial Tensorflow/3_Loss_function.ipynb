{
 "metadata": {
  "language_info": {
   "codemirror_mode": {
    "name": "ipython",
    "version": 3
   },
   "file_extension": ".py",
   "mimetype": "text/x-python",
   "name": "python",
   "nbconvert_exporter": "python",
   "pygments_lexer": "ipython3",
   "version": "3.8.5"
  },
  "orig_nbformat": 4,
  "kernelspec": {
   "name": "python3",
   "display_name": "Python 3.8.5 64-bit ('base': conda)"
  },
  "interpreter": {
   "hash": "ecf5722fdaf1897a315d257d89d94520bfcaa453217d5becf09b39e73618b0de"
  }
 },
 "nbformat": 4,
 "nbformat_minor": 2,
 "cells": [
  {
   "source": [
    "## Loss Functions\n",
    "\n",
    "- ### sparse_categorical_crossentropy\n",
    "- ### biary_crossentropy\n",
    "- ### categorical_crossentropy\n",
    "- ### mean_absolute_error\n",
    "    - take average of all errors by suqaring the difference: (predicted - actual)^2\n",
    "- ### mean_squared_error\n",
    "    - take average of all errors by taking: abs(predicted - actual)\n"
   ],
   "cell_type": "markdown",
   "metadata": {}
  },
  {
   "cell_type": "code",
   "execution_count": 4,
   "metadata": {},
   "outputs": [],
   "source": [
    "import numpy as np\n",
    "\n",
    "y_predicted = np.array([1, 1, 0, 0, 1])\n",
    "y_actual = np.array([0.3, 0.7, 1, 0, 0.5])"
   ]
  },
  {
   "cell_type": "code",
   "execution_count": 35,
   "metadata": {},
   "outputs": [
    {
     "output_type": "stream",
     "name": "stdout",
     "text": [
      "0.5\n0.5\n"
     ]
    }
   ],
   "source": [
    "# Mean absolute error\n",
    "def mean_absolute_error(y_actual, y_predicted):\n",
    "    tot_error = 0\n",
    "    for a, p in zip(y_actual, y_predicted):\n",
    "       tot_error += abs(a - p)\n",
    "    return tot_error / len(y_actual)\n",
    "\n",
    "print(mean_absolute_error(y_predicted, y_actual))\n",
    "\n",
    "# or\n",
    "print(np.mean(np.abs(y_predicted - y_actual)))"
   ]
  },
  {
   "cell_type": "code",
   "execution_count": 42,
   "metadata": {},
   "outputs": [
    {
     "output_type": "execute_result",
     "data": {
      "text/plain": [
       "0.366"
      ]
     },
     "metadata": {},
     "execution_count": 42
    }
   ],
   "source": [
    "# Mean square error\n",
    "def mean_square_error(y_actual, y_predicted):\n",
    "    return np.mean(pow(y_predicted - y_actual, 2))\n",
    "\n",
    "mean_square_error(y_actual, y_predicted)"
   ]
  },
  {
   "cell_type": "code",
   "execution_count": 32,
   "metadata": {},
   "outputs": [
    {
     "output_type": "execute_result",
     "data": {
      "text/plain": [
       "17.2696280766844"
      ]
     },
     "metadata": {},
     "execution_count": 32
    }
   ],
   "source": [
    "# Log loss function\n",
    "def log_loss(y_actual, y_predicted):\n",
    "    eplison = 1e-15\n",
    "    y_predicted_new = np.array([min(max(i, eplison), 1 - eplison) for i in y_predicted])\n",
    "\n",
    "    return -np.mean(y_actual * np.log(y_predicted_new) + (1 - y_actual) * np.log(1 - y_predicted_new))\n",
    "\n",
    "log_loss(y_actual, y_predicted)\n"
   ]
  },
  {
   "cell_type": "code",
   "execution_count": null,
   "metadata": {},
   "outputs": [],
   "source": []
  }
 ]
}