{
 "metadata": {
  "language_info": {
   "codemirror_mode": {
    "name": "ipython",
    "version": 3
   },
   "file_extension": ".py",
   "mimetype": "text/x-python",
   "name": "python",
   "nbconvert_exporter": "python",
   "pygments_lexer": "ipython3",
   "version": "3.8.5"
  },
  "orig_nbformat": 4,
  "kernelspec": {
   "name": "python3",
   "display_name": "Python 3.8.5 64-bit ('base': conda)"
  },
  "interpreter": {
   "hash": "ecf5722fdaf1897a315d257d89d94520bfcaa453217d5becf09b39e73618b0de"
  }
 },
 "nbformat": 4,
 "nbformat_minor": 2,
 "cells": [
  {
   "cell_type": "code",
   "execution_count": 12,
   "metadata": {},
   "outputs": [
    {
     "output_type": "stream",
     "name": "stdout",
     "text": [
      "Epoch 1/5\n",
      "1875/1875 [==============================] - 2s 997us/step - loss: 0.6388 - accuracy: 0.8387\n",
      "Epoch 2/5\n",
      "1875/1875 [==============================] - 2s 890us/step - loss: 0.3349 - accuracy: 0.9067\n",
      "Epoch 3/5\n",
      "1875/1875 [==============================] - 2s 886us/step - loss: 0.2869 - accuracy: 0.9194\n",
      "Epoch 4/5\n",
      "1875/1875 [==============================] - 2s 864us/step - loss: 0.2563 - accuracy: 0.9274\n",
      "Epoch 5/5\n",
      "1875/1875 [==============================] - 2s 874us/step - loss: 0.2325 - accuracy: 0.9355\n"
     ]
    },
    {
     "output_type": "execute_result",
     "data": {
      "text/plain": [
       "<tensorflow.python.keras.callbacks.History at 0x23f53715e50>"
      ]
     },
     "metadata": {},
     "execution_count": 12
    }
   ],
   "source": [
    "import tensorflow as tf\n",
    "from tensorflow import keras\n",
    "import matplotlib.pyplot as plt\n",
    "import numpy as np\n",
    "\n",
    "\n",
    "%matplotlib inline\n",
    "\n",
    "(X_train, y_train), (X_test, y_test) = keras.datasets.mnist.load_data()\n",
    "\n",
    "# scale the model!!!\n",
    "X_train = X_train / 255\n",
    "X_test = X_test / 255\n",
    "\n",
    "# flatten training dataset: from 28 x 28 to 1 x 784 array\n",
    "X_train_flatten = X_train.reshape(len(X_train), 28 * 28)\n",
    "X_test_flatten = X_test.reshape(len(X_test), 28 * 28)\n",
    "\n",
    "# def the model\n",
    "model = keras.Sequential([\n",
    "    keras.layers.Flatten(input_shape=(28 * 28, )), # so that we don't need to flatten our data\n",
    "    keras.layers.Dense(200, activation='relu'), # input layer, try 100 units\n",
    "    keras.layers.Dense(10, activation='sigmoid') # hidden layer\n",
    "])\n",
    "\n",
    "\n",
    "model.compile(optimizer=\"SGD\", loss=\"sparse_categorical_crossentropy\", metrics=['accuracy']) # 1 hot encoded array (also can use mean_square_error)\n",
    "\n",
    "tb_callback = tf.keras.callbacks.TensorBoard(log_dir=\"logs/SGD\", histogram_freq=1)\n",
    "\n",
    "# train the model\n",
    "model.fit(X_train_flatten, y_train, epochs=5, callbacks=[tb_callback])"
   ]
  },
  {
   "cell_type": "code",
   "execution_count": 4,
   "metadata": {},
   "outputs": [
    {
     "output_type": "stream",
     "name": "stdout",
     "text": [
      "The tensorboard extension is already loaded. To reload it, use:\n  %reload_ext tensorboard\n"
     ]
    },
    {
     "output_type": "display_data",
     "data": {
      "text/plain": "Launching TensorBoard..."
     },
     "metadata": {}
    },
    {
     "output_type": "display_data",
     "data": {
      "text/plain": "<IPython.core.display.HTML object>",
      "text/html": "\n      <iframe id=\"tensorboard-frame-2b36d0b9ef368560\" width=\"100%\" height=\"800\" frameborder=\"0\">\n      </iframe>\n      <script>\n        (function() {\n          const frame = document.getElementById(\"tensorboard-frame-2b36d0b9ef368560\");\n          const url = new URL(\"http://localhost\");\n          const port = 6006;\n          if (port) {\n            url.port = port;\n          }\n          frame.src = url;\n        })();\n      </script>\n    "
     },
     "metadata": {}
    }
   ],
   "source": [
    "# Launch Tensor Board within notebook\n",
    "%load_ext tensorboard\n",
    "%tensorboard --logdir logs\n",
    "\n",
    "# Launch Tenor Board using terminal: tensorboard --logdir logs/"
   ]
  },
  {
   "cell_type": "code",
   "execution_count": null,
   "metadata": {},
   "outputs": [],
   "source": []
  }
 ]
}