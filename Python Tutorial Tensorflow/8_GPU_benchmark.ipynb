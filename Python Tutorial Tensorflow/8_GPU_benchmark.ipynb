{
 "metadata": {
  "language_info": {
   "codemirror_mode": {
    "name": "ipython",
    "version": 3
   },
   "file_extension": ".py",
   "mimetype": "text/x-python",
   "name": "python",
   "nbconvert_exporter": "python",
   "pygments_lexer": "ipython3",
   "version": "3.8.5"
  },
  "orig_nbformat": 4,
  "kernelspec": {
   "name": "python3",
   "display_name": "Python 3.8.5 64-bit ('base': conda)"
  },
  "interpreter": {
   "hash": "ecf5722fdaf1897a315d257d89d94520bfcaa453217d5becf09b39e73618b0de"
  }
 },
 "nbformat": 4,
 "nbformat_minor": 2,
 "cells": [
  {
   "cell_type": "code",
   "execution_count": 13,
   "metadata": {},
   "outputs": [],
   "source": [
    "import numpy as np\n",
    "import tensorflow as tf\n",
    "from tensorflow import keras\n",
    "import matplotlib.pyplot as plt\n",
    "%matplotlib inline\n"
   ]
  },
  {
   "cell_type": "code",
   "execution_count": 14,
   "metadata": {},
   "outputs": [
    {
     "output_type": "stream",
     "name": "stdout",
     "text": [
      "[PhysicalDevice(name='/physical_device:CPU:0', device_type='CPU'), PhysicalDevice(name='/physical_device:GPU:0', device_type='GPU')]\nTrue\n"
     ]
    }
   ],
   "source": [
    "# Varify GPU method 1\n",
    "print(tf.config.experimental.list_physical_devices())\n",
    "\n",
    "# Varify GPU method 2\n",
    "print(tf.test.is_built_with_cuda())"
   ]
  },
  {
   "source": [
    "### Use ANN to classify this [image dataset](https://www.cs.toronto.edu/~kriz/cifar.html)\n",
    "\n",
    "\n",
    "<img src=\"https://i.imgur.com/1GL6JG7.png\" alt=\"img\" width=\"700\"/>"
   ],
   "cell_type": "markdown",
   "metadata": {}
  },
  {
   "cell_type": "code",
   "execution_count": 15,
   "metadata": {},
   "outputs": [
    {
     "output_type": "stream",
     "name": "stdout",
     "text": [
      "(50000, 32, 32, 3) (50000, 1)\n"
     ]
    }
   ],
   "source": [
    "# Download and load dataset\n",
    "(X_train, y_train), (X_test, y_test) = tf.keras.datasets.cifar10.load_data()\n",
    "\n",
    "print(X_train.shape, y_train.shape)"
   ]
  },
  {
   "cell_type": "code",
   "execution_count": 29,
   "metadata": {},
   "outputs": [
    {
     "output_type": "stream",
     "name": "stdout",
     "text": [
      "deer\n"
     ]
    },
    {
     "output_type": "display_data",
     "data": {
      "text/plain": "<Figure size 720x72 with 1 Axes>",
      "image/svg+xml": "<?xml version=\"1.0\" encoding=\"utf-8\" standalone=\"no\"?>\r\n<!DOCTYPE svg PUBLIC \"-//W3C//DTD SVG 1.1//EN\"\r\n  \"http://www.w3.org/Graphics/SVG/1.1/DTD/svg11.dtd\">\r\n<svg height=\"88.387969pt\" version=\"1.1\" viewBox=\"0 0 88.485 88.387969\" width=\"88.485pt\" xmlns=\"http://www.w3.org/2000/svg\" xmlns:xlink=\"http://www.w3.org/1999/xlink\">\r\n <metadata>\r\n  <rdf:RDF xmlns:cc=\"http://creativecommons.org/ns#\" xmlns:dc=\"http://purl.org/dc/elements/1.1/\" xmlns:rdf=\"http://www.w3.org/1999/02/22-rdf-syntax-ns#\">\r\n   <cc:Work>\r\n    <dc:type rdf:resource=\"http://purl.org/dc/dcmitype/StillImage\"/>\r\n    <dc:date>2021-06-20T12:23:40.135143</dc:date>\r\n    <dc:format>image/svg+xml</dc:format>\r\n    <dc:creator>\r\n     <cc:Agent>\r\n      <dc:title>Matplotlib v3.4.2, https://matplotlib.org/</dc:title>\r\n     </cc:Agent>\r\n    </dc:creator>\r\n   </cc:Work>\r\n  </rdf:RDF>\r\n </metadata>\r\n <defs>\r\n  <style type=\"text/css\">*{stroke-linecap:butt;stroke-linejoin:round;}</style>\r\n </defs>\r\n <g id=\"figure_1\">\r\n  <g id=\"patch_1\">\r\n   <path d=\"M 0 88.387969 \r\nL 88.485 88.387969 \r\nL 88.485 0 \r\nL 0 0 \r\nz\r\n\" style=\"fill:none;\"/>\r\n  </g>\r\n  <g id=\"axes_1\">\r\n   <g id=\"patch_2\">\r\n    <path d=\"M 26.925 64.509844 \r\nL 81.285 64.509844 \r\nL 81.285 10.149844 \r\nL 26.925 10.149844 \r\nz\r\n\" style=\"fill:#ffffff;\"/>\r\n   </g>\r\n   <g clip-path=\"url(#pb786f08b69)\">\r\n    <image height=\"55\" id=\"image5e570b3a07\" transform=\"scale(1 -1)translate(0 -55)\" width=\"55\" x=\"26.925\" xlink:href=\"data:image/png;base64,\r\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\" y=\"-9.509844\"/>\r\n   </g>\r\n   <g id=\"matplotlib.axis_1\">\r\n    <g id=\"xtick_1\">\r\n     <g id=\"line2d_1\">\r\n      <defs>\r\n       <path d=\"M 0 0 \r\nL 0 3.5 \r\n\" id=\"m0c2af0598a\" style=\"stroke:#000000;stroke-width:0.8;\"/>\r\n      </defs>\r\n      <g>\r\n       <use style=\"stroke:#000000;stroke-width:0.8;\" x=\"27.774375\" xlink:href=\"#m0c2af0598a\" y=\"64.509844\"/>\r\n      </g>\r\n     </g>\r\n     <g id=\"text_1\">\r\n      <!-- 0 -->\r\n      <g transform=\"translate(24.593125 79.108281)scale(0.1 -0.1)\">\r\n       <defs>\r\n        <path d=\"M 2034 4250 \r\nQ 1547 4250 1301 3770 \r\nQ 1056 3291 1056 2328 \r\nQ 1056 1369 1301 889 \r\nQ 1547 409 2034 409 \r\nQ 2525 409 2770 889 \r\nQ 3016 1369 3016 2328 \r\nQ 3016 3291 2770 3770 \r\nQ 2525 4250 2034 4250 \r\nz\r\nM 2034 4750 \r\nQ 2819 4750 3233 4129 \r\nQ 3647 3509 3647 2328 \r\nQ 3647 1150 3233 529 \r\nQ 2819 -91 2034 -91 \r\nQ 1250 -91 836 529 \r\nQ 422 1150 422 2328 \r\nQ 422 3509 836 4129 \r\nQ 1250 4750 2034 4750 \r\nz\r\n\" id=\"DejaVuSans-30\" transform=\"scale(0.015625)\"/>\r\n       </defs>\r\n       <use xlink:href=\"#DejaVuSans-30\"/>\r\n      </g>\r\n     </g>\r\n    </g>\r\n    <g id=\"xtick_2\">\r\n     <g id=\"line2d_2\">\r\n      <g>\r\n       <use style=\"stroke:#000000;stroke-width:0.8;\" x=\"70.243125\" xlink:href=\"#m0c2af0598a\" y=\"64.509844\"/>\r\n      </g>\r\n     </g>\r\n     <g id=\"text_2\">\r\n      <!-- 25 -->\r\n      <g transform=\"translate(63.880625 79.108281)scale(0.1 -0.1)\">\r\n       <defs>\r\n        <path d=\"M 1228 531 \r\nL 3431 531 \r\nL 3431 0 \r\nL 469 0 \r\nL 469 531 \r\nQ 828 903 1448 1529 \r\nQ 2069 2156 2228 2338 \r\nQ 2531 2678 2651 2914 \r\nQ 2772 3150 2772 3378 \r\nQ 2772 3750 2511 3984 \r\nQ 2250 4219 1831 4219 \r\nQ 1534 4219 1204 4116 \r\nQ 875 4013 500 3803 \r\nL 500 4441 \r\nQ 881 4594 1212 4672 \r\nQ 1544 4750 1819 4750 \r\nQ 2544 4750 2975 4387 \r\nQ 3406 4025 3406 3419 \r\nQ 3406 3131 3298 2873 \r\nQ 3191 2616 2906 2266 \r\nQ 2828 2175 2409 1742 \r\nQ 1991 1309 1228 531 \r\nz\r\n\" id=\"DejaVuSans-32\" transform=\"scale(0.015625)\"/>\r\n        <path d=\"M 691 4666 \r\nL 3169 4666 \r\nL 3169 4134 \r\nL 1269 4134 \r\nL 1269 2991 \r\nQ 1406 3038 1543 3061 \r\nQ 1681 3084 1819 3084 \r\nQ 2600 3084 3056 2656 \r\nQ 3513 2228 3513 1497 \r\nQ 3513 744 3044 326 \r\nQ 2575 -91 1722 -91 \r\nQ 1428 -91 1123 -41 \r\nQ 819 9 494 109 \r\nL 494 744 \r\nQ 775 591 1075 516 \r\nQ 1375 441 1709 441 \r\nQ 2250 441 2565 725 \r\nQ 2881 1009 2881 1497 \r\nQ 2881 1984 2565 2268 \r\nQ 2250 2553 1709 2553 \r\nQ 1456 2553 1204 2497 \r\nQ 953 2441 691 2322 \r\nL 691 4666 \r\nz\r\n\" id=\"DejaVuSans-35\" transform=\"scale(0.015625)\"/>\r\n       </defs>\r\n       <use xlink:href=\"#DejaVuSans-32\"/>\r\n       <use x=\"63.623047\" xlink:href=\"#DejaVuSans-35\"/>\r\n      </g>\r\n     </g>\r\n    </g>\r\n   </g>\r\n   <g id=\"matplotlib.axis_2\">\r\n    <g id=\"ytick_1\">\r\n     <g id=\"line2d_3\">\r\n      <defs>\r\n       <path d=\"M 0 0 \r\nL -3.5 0 \r\n\" id=\"m816a438a53\" style=\"stroke:#000000;stroke-width:0.8;\"/>\r\n      </defs>\r\n      <g>\r\n       <use style=\"stroke:#000000;stroke-width:0.8;\" x=\"26.925\" xlink:href=\"#m816a438a53\" y=\"10.999219\"/>\r\n      </g>\r\n     </g>\r\n     <g id=\"text_3\">\r\n      <!-- 0 -->\r\n      <g transform=\"translate(13.5625 14.798437)scale(0.1 -0.1)\">\r\n       <use xlink:href=\"#DejaVuSans-30\"/>\r\n      </g>\r\n     </g>\r\n    </g>\r\n    <g id=\"ytick_2\">\r\n     <g id=\"line2d_4\">\r\n      <g>\r\n       <use style=\"stroke:#000000;stroke-width:0.8;\" x=\"26.925\" xlink:href=\"#m816a438a53\" y=\"44.974219\"/>\r\n      </g>\r\n     </g>\r\n     <g id=\"text_4\">\r\n      <!-- 20 -->\r\n      <g transform=\"translate(7.2 48.773438)scale(0.1 -0.1)\">\r\n       <use xlink:href=\"#DejaVuSans-32\"/>\r\n       <use x=\"63.623047\" xlink:href=\"#DejaVuSans-30\"/>\r\n      </g>\r\n     </g>\r\n    </g>\r\n   </g>\r\n   <g id=\"patch_3\">\r\n    <path d=\"M 26.925 64.509844 \r\nL 26.925 10.149844 \r\n\" style=\"fill:none;stroke:#000000;stroke-linecap:square;stroke-linejoin:miter;stroke-width:0.8;\"/>\r\n   </g>\r\n   <g id=\"patch_4\">\r\n    <path d=\"M 81.285 64.509844 \r\nL 81.285 10.149844 \r\n\" style=\"fill:none;stroke:#000000;stroke-linecap:square;stroke-linejoin:miter;stroke-width:0.8;\"/>\r\n   </g>\r\n   <g id=\"patch_5\">\r\n    <path d=\"M 26.925 64.509844 \r\nL 81.285 64.509844 \r\n\" style=\"fill:none;stroke:#000000;stroke-linecap:square;stroke-linejoin:miter;stroke-width:0.8;\"/>\r\n   </g>\r\n   <g id=\"patch_6\">\r\n    <path d=\"M 26.925 10.149844 \r\nL 81.285 10.149844 \r\n\" style=\"fill:none;stroke:#000000;stroke-linecap:square;stroke-linejoin:miter;stroke-width:0.8;\"/>\r\n   </g>\r\n  </g>\r\n </g>\r\n <defs>\r\n  <clipPath id=\"pb786f08b69\">\r\n   <rect height=\"54.36\" width=\"54.36\" x=\"26.925\" y=\"10.149844\"/>\r\n  </clipPath>\r\n </defs>\r\n</svg>\r\n",
      "image/png": "[encoded data removed]"
     },
     "metadata": {
      "needs_background": "light"
     }
    }
   ],
   "source": [
    "# show image\n",
    "classes = [\"airplane\", \"automobile\", \"bird\", \"cat\", \"deer\", \"dog\", \"frog\", \"horse\", \"ship\", \"truck\"]\n",
    "\n",
    "def plot_sample(index):\n",
    "    plt.figure(figsize=(10, 1))\n",
    "    plt.imshow(X_train[index])\n",
    "\n",
    "idx = 3\n",
    "print(classes[y_train[idx][0]])\n",
    "plot_sample(idx)\n",
    "\n",
    "# normalize image\n",
    "X_train_scaled = X_train / 255\n",
    "X_test_scaled = X_test / 255"
   ]
  },
  {
   "cell_type": "code",
   "execution_count": 32,
   "metadata": {},
   "outputs": [
    {
     "output_type": "execute_result",
     "data": {
      "text/plain": [
       "(10000, 32, 32, 3)"
      ]
     },
     "metadata": {},
     "execution_count": 32
    }
   ],
   "source": [
    "# Apply One Hot Encoding to y_train, if using sparse_categorical_crossentropy we don't need to apply this\n",
    "# 1 --> [0, 1, 0, 0, 0, 0, 0, 0, 0, 0]\n",
    "y_train_categorical = keras.utils.to_categorical(y_train, num_classes=10, dtype=\"float32\")\n",
    "y_test_categorical = keras.utils.to_categorical(y_test, num_classes=10, dtype=\"float32\")\n",
    "\n",
    "X_test_scaled.shape"
   ]
  },
  {
   "cell_type": "code",
   "execution_count": 33,
   "metadata": {},
   "outputs": [
    {
     "output_type": "stream",
     "name": "stdout",
     "text": [
      "Epoch 1/50\n",
      "1563/1563 [==============================] - 3s 1ms/step - loss: 1.8089 - accuracy: 0.3563\n",
      "Epoch 2/50\n",
      "1563/1563 [==============================] - 2s 1ms/step - loss: 1.6234 - accuracy: 0.4275\n",
      "Epoch 3/50\n",
      "1563/1563 [==============================] - 2s 1ms/step - loss: 1.5421 - accuracy: 0.4571\n",
      "Epoch 4/50\n",
      "1563/1563 [==============================] - 2s 1ms/step - loss: 1.4829 - accuracy: 0.4781\n",
      "Epoch 5/50\n",
      "1563/1563 [==============================] - 2s 1ms/step - loss: 1.4316 - accuracy: 0.4931\n",
      "Epoch 6/50\n",
      "1563/1563 [==============================] - 2s 1ms/step - loss: 1.3909 - accuracy: 0.5119\n",
      "Epoch 7/50\n",
      "1563/1563 [==============================] - 2s 1ms/step - loss: 1.3554 - accuracy: 0.5241\n",
      "Epoch 8/50\n",
      "1563/1563 [==============================] - 2s 1ms/step - loss: 1.3179 - accuracy: 0.5388\n",
      "Epoch 9/50\n",
      "1563/1563 [==============================] - 2s 1ms/step - loss: 1.2855 - accuracy: 0.5468\n",
      "Epoch 10/50\n",
      "1563/1563 [==============================] - 2s 1ms/step - loss: 1.2554 - accuracy: 0.5616\n",
      "Epoch 11/50\n",
      "1563/1563 [==============================] - 2s 1ms/step - loss: 1.2253 - accuracy: 0.5713\n",
      "Epoch 12/50\n",
      "1563/1563 [==============================] - 2s 1ms/step - loss: 1.1967 - accuracy: 0.5810\n",
      "Epoch 13/50\n",
      "1563/1563 [==============================] - 2s 1ms/step - loss: 1.1715 - accuracy: 0.5903\n",
      "Epoch 14/50\n",
      "1563/1563 [==============================] - 2s 1ms/step - loss: 1.1440 - accuracy: 0.5994\n",
      "Epoch 15/50\n",
      "1563/1563 [==============================] - 2s 1ms/step - loss: 1.1147 - accuracy: 0.6103\n",
      "Epoch 16/50\n",
      "1563/1563 [==============================] - 2s 1ms/step - loss: 1.0887 - accuracy: 0.6210\n",
      "Epoch 17/50\n",
      "1563/1563 [==============================] - 2s 1ms/step - loss: 1.0631 - accuracy: 0.6286\n",
      "Epoch 18/50\n",
      "1563/1563 [==============================] - 2s 1ms/step - loss: 1.0362 - accuracy: 0.6388\n",
      "Epoch 19/50\n",
      "1563/1563 [==============================] - 2s 1ms/step - loss: 1.0080 - accuracy: 0.6490\n",
      "Epoch 20/50\n",
      "1563/1563 [==============================] - 2s 1ms/step - loss: 0.9873 - accuracy: 0.6567\n",
      "Epoch 21/50\n",
      "1563/1563 [==============================] - 2s 1ms/step - loss: 0.9591 - accuracy: 0.6672\n",
      "Epoch 22/50\n",
      "1563/1563 [==============================] - 2s 1ms/step - loss: 0.9320 - accuracy: 0.6775\n",
      "Epoch 23/50\n",
      "1563/1563 [==============================] - 2s 1ms/step - loss: 0.9062 - accuracy: 0.6867\n",
      "Epoch 24/50\n",
      "1563/1563 [==============================] - 2s 1ms/step - loss: 0.8805 - accuracy: 0.6945\n",
      "Epoch 25/50\n",
      "1563/1563 [==============================] - 2s 1ms/step - loss: 0.8535 - accuracy: 0.7046\n",
      "Epoch 26/50\n",
      "1563/1563 [==============================] - 2s 1ms/step - loss: 0.8310 - accuracy: 0.7139\n",
      "Epoch 27/50\n",
      "1563/1563 [==============================] - 2s 1ms/step - loss: 0.8045 - accuracy: 0.7233\n",
      "Epoch 28/50\n",
      "1563/1563 [==============================] - 2s 1ms/step - loss: 0.7805 - accuracy: 0.7299\n",
      "Epoch 29/50\n",
      "1563/1563 [==============================] - 2s 1ms/step - loss: 0.7551 - accuracy: 0.7407\n",
      "Epoch 30/50\n",
      "1563/1563 [==============================] - 2s 1ms/step - loss: 0.7310 - accuracy: 0.7514\n",
      "Epoch 31/50\n",
      "1563/1563 [==============================] - 2s 1ms/step - loss: 0.7019 - accuracy: 0.7619\n",
      "Epoch 32/50\n",
      "1563/1563 [==============================] - 2s 1ms/step - loss: 0.6792 - accuracy: 0.7692\n",
      "Epoch 33/50\n",
      "1563/1563 [==============================] - 2s 1ms/step - loss: 0.6561 - accuracy: 0.7773\n",
      "Epoch 34/50\n",
      "1563/1563 [==============================] - 2s 1ms/step - loss: 0.6298 - accuracy: 0.7873\n",
      "Epoch 35/50\n",
      "1563/1563 [==============================] - 2s 1ms/step - loss: 0.6062 - accuracy: 0.7976\n",
      "Epoch 36/50\n",
      "1563/1563 [==============================] - 2s 1ms/step - loss: 0.5832 - accuracy: 0.8049\n",
      "Epoch 37/50\n",
      "1563/1563 [==============================] - 2s 1ms/step - loss: 0.5587 - accuracy: 0.8153\n",
      "Epoch 38/50\n",
      "1563/1563 [==============================] - 2s 1ms/step - loss: 0.5354 - accuracy: 0.8204\n",
      "Epoch 39/50\n",
      "1563/1563 [==============================] - 2s 1ms/step - loss: 0.5106 - accuracy: 0.8311\n",
      "Epoch 40/50\n",
      "1563/1563 [==============================] - 2s 1ms/step - loss: 0.4861 - accuracy: 0.8404\n",
      "Epoch 41/50\n",
      "1563/1563 [==============================] - 2s 1ms/step - loss: 0.4656 - accuracy: 0.8483\n",
      "Epoch 42/50\n",
      "1563/1563 [==============================] - 2s 1ms/step - loss: 0.4452 - accuracy: 0.8567\n",
      "Epoch 43/50\n",
      "1563/1563 [==============================] - 2s 1ms/step - loss: 0.4255 - accuracy: 0.8634\n",
      "Epoch 44/50\n",
      "1563/1563 [==============================] - 2s 1ms/step - loss: 0.4045 - accuracy: 0.8707\n",
      "Epoch 45/50\n",
      "1563/1563 [==============================] - 2s 1ms/step - loss: 0.3875 - accuracy: 0.8781\n",
      "Epoch 46/50\n",
      "1563/1563 [==============================] - 2s 1ms/step - loss: 0.3610 - accuracy: 0.8866\n",
      "Epoch 47/50\n",
      "1563/1563 [==============================] - 2s 1ms/step - loss: 0.3449 - accuracy: 0.8925\n",
      "Epoch 48/50\n",
      "1563/1563 [==============================] - 2s 1ms/step - loss: 0.3269 - accuracy: 0.8996\n",
      "Epoch 49/50\n",
      "1563/1563 [==============================] - 2s 1ms/step - loss: 0.3130 - accuracy: 0.9044\n",
      "Epoch 50/50\n",
      "1563/1563 [==============================] - 2s 1ms/step - loss: 0.2943 - accuracy: 0.9112\n"
     ]
    },
    {
     "output_type": "execute_result",
     "data": {
      "text/plain": [
       "<tensorflow.python.keras.callbacks.History at 0x20ea4d96730>"
      ]
     },
     "metadata": {},
     "execution_count": 33
    }
   ],
   "source": [
    "# define, compile and train model\n",
    "model = keras.Sequential([\n",
    "    keras.layers.Flatten(input_shape=(32, 32, 3)), # use test set shape\n",
    "    keras.layers.Dense(3000, activation=\"relu\"),\n",
    "    keras.layers.Dense(1000, activation=\"relu\"),\n",
    "    keras.layers.Dense(10, activation=\"sigmoid\")\n",
    "])\n",
    "\n",
    "model.compile(optimizer=\"SGD\", loss=\"categorical_crossentropy\", metrics=[\"accuracy\"])\n",
    "\n",
    "model.fit(X_train_scaled, y_train_categorical, epochs=50)"
   ]
  },
  {
   "cell_type": "code",
   "execution_count": 40,
   "metadata": {},
   "outputs": [
    {
     "output_type": "execute_result",
     "data": {
      "text/plain": [
       "'ship'"
      ]
     },
     "metadata": {},
     "execution_count": 40
    }
   ],
   "source": [
    "classes[np.argmax(model.predict(X_test_scaled)[1])]"
   ]
  },
  {
   "cell_type": "code",
   "execution_count": 41,
   "metadata": {},
   "outputs": [
    {
     "output_type": "execute_result",
     "data": {
      "text/plain": [
       "'ship'"
      ]
     },
     "metadata": {},
     "execution_count": 41
    }
   ],
   "source": [
    "classes[y_test[1][0]]"
   ]
  },
  {
   "cell_type": "code",
   "execution_count": 47,
   "metadata": {},
   "outputs": [],
   "source": [
    "def get_model():\n",
    "    model = keras.Sequential([\n",
    "            keras.layers.Flatten(input_shape=(32, 32, 3)), # use test set shape\n",
    "            keras.layers.Dense(3000, activation=\"relu\"),\n",
    "            keras.layers.Dense(1000, activation=\"relu\"),\n",
    "            keras.layers.Dense(10, activation=\"sigmoid\")\n",
    "    ])\n",
    "    model.compile(optimizer=\"SGD\", loss=\"categorical_crossentropy\", metrics=[\"accuracy\"])\n",
    "\n",
    "    return model\n",
    "\n"
   ]
  },
  {
   "cell_type": "code",
   "execution_count": 52,
   "metadata": {},
   "outputs": [
    {
     "output_type": "stream",
     "name": "stdout",
     "text": [
      "Epoch 1/10\n",
      "1563/1563 [==============================] - 27s 17ms/step - loss: 1.8084 - accuracy: 0.3550\n",
      "Epoch 2/10\n",
      "1563/1563 [==============================] - 27s 17ms/step - loss: 1.6240 - accuracy: 0.4274\n",
      "Epoch 3/10\n",
      "1563/1563 [==============================] - 27s 17ms/step - loss: 1.5441 - accuracy: 0.4542\n",
      "Epoch 4/10\n",
      "1563/1563 [==============================] - 27s 17ms/step - loss: 1.4821 - accuracy: 0.4783\n",
      "Epoch 5/10\n",
      "1563/1563 [==============================] - 27s 17ms/step - loss: 1.4319 - accuracy: 0.4953\n",
      "Epoch 6/10\n",
      "1563/1563 [==============================] - 27s 18ms/step - loss: 1.3888 - accuracy: 0.5130\n",
      "Epoch 7/10\n",
      "1563/1563 [==============================] - 28s 18ms/step - loss: 1.3507 - accuracy: 0.5245\n",
      "Epoch 8/10\n",
      "1563/1563 [==============================] - 27s 17ms/step - loss: 1.3164 - accuracy: 0.5378\n",
      "Epoch 9/10\n",
      "1563/1563 [==============================] - 26s 17ms/step - loss: 1.2863 - accuracy: 0.5486\n",
      "Epoch 10/10\n",
      "1563/1563 [==============================] - 27s 17ms/step - loss: 1.2521 - accuracy: 0.5593\n",
      "4min 30s ± 0 ns per loop (mean ± std. dev. of 1 run, 1 loop each)\n"
     ]
    }
   ],
   "source": [
    "%%timeit -n1 -r1\n",
    "with tf.device('/CPU:0'):\n",
    "    cpu_model = get_model()\n",
    "    cpu_model.fit(X_train_scaled, y_train_categorical, epochs=10)"
   ]
  },
  {
   "cell_type": "code",
   "execution_count": 53,
   "metadata": {},
   "outputs": [
    {
     "output_type": "stream",
     "name": "stdout",
     "text": [
      "Epoch 1/10\n",
      "1563/1563 [==============================] - 2s 1ms/step - loss: 1.8106 - accuracy: 0.3549\n",
      "Epoch 2/10\n",
      "1563/1563 [==============================] - 2s 1ms/step - loss: 1.6229 - accuracy: 0.4274\n",
      "Epoch 3/10\n",
      "1563/1563 [==============================] - 2s 1ms/step - loss: 1.5411 - accuracy: 0.4572\n",
      "Epoch 4/10\n",
      "1563/1563 [==============================] - 2s 1ms/step - loss: 1.4828 - accuracy: 0.4754\n",
      "Epoch 5/10\n",
      "1563/1563 [==============================] - 2s 1ms/step - loss: 1.4326 - accuracy: 0.4960\n",
      "Epoch 6/10\n",
      "1563/1563 [==============================] - 2s 1ms/step - loss: 1.3871 - accuracy: 0.5115\n",
      "Epoch 7/10\n",
      "1563/1563 [==============================] - 2s 1ms/step - loss: 1.3513 - accuracy: 0.5256\n",
      "Epoch 8/10\n",
      "1563/1563 [==============================] - 2s 1ms/step - loss: 1.3162 - accuracy: 0.5369\n",
      "Epoch 9/10\n",
      "1563/1563 [==============================] - 2s 1ms/step - loss: 1.2838 - accuracy: 0.5511\n",
      "Epoch 10/10\n",
      "1563/1563 [==============================] - 2s 1ms/step - loss: 1.2523 - accuracy: 0.5615\n",
      "22 s ± 0 ns per loop (mean ± std. dev. of 1 run, 1 loop each)\n"
     ]
    }
   ],
   "source": [
    "%%timeit -n1 -r1\n",
    "with tf.device('/GPU:0'):\n",
    "    gpu_model = get_model()\n",
    "    gpu_model.fit(X_train_scaled, y_train_categorical, epochs=10)"
   ]
  },
  {
   "source": [
    "### 270s CPU vs. 22s GPU"
   ],
   "cell_type": "markdown",
   "metadata": {}
  }
 ]
}