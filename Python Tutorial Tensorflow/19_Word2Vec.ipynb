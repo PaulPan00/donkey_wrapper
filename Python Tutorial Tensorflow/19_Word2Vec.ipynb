{
 "metadata": {
  "language_info": {
   "codemirror_mode": {
    "name": "ipython",
    "version": 3
   },
   "file_extension": ".py",
   "mimetype": "text/x-python",
   "name": "python",
   "nbconvert_exporter": "python",
   "pygments_lexer": "ipython3",
   "version": 3
  },
  "orig_nbformat": 4
 },
 "nbformat": 4,
 "nbformat_minor": 2,
 "cells": [
  {
   "source": [
    "# Word2Vec\n",
    "## King - man + woman = king\n",
    "\n",
    "<img src=\"https://media.discordapp.net/attachments/763819251249184789/858443082710253588/image.png?width=2168&height=1182\" width=700>\n",
    "\n",
    "- ### Take a fake problem solve it using neural network, then get word embedding as side affect\n",
    "\n",
    "<br><br>\n",
    "\n",
    "## Two methods: \n",
    "## CBOW: Contunuous Bag of Words\n",
    "- ### Given context words predict target word\n",
    "\n",
    "## Skip Gram\n",
    "- ### Given the target predict context words"
   ],
   "cell_type": "markdown",
   "metadata": {}
  },
  {
   "cell_type": "code",
   "execution_count": null,
   "metadata": {},
   "outputs": [],
   "source": []
  }
 ]
}