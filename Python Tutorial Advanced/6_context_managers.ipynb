{
 "metadata": {
  "language_info": {
   "codemirror_mode": {
    "name": "ipython",
    "version": 3
   },
   "file_extension": ".py",
   "mimetype": "text/x-python",
   "name": "python",
   "nbconvert_exporter": "python",
   "pygments_lexer": "ipython3",
   "version": "3.8.5"
  },
  "orig_nbformat": 4,
  "kernelspec": {
   "name": "python3",
   "display_name": "Python 3.8.5 64-bit ('base': conda)"
  },
  "interpreter": {
   "hash": "ecf5722fdaf1897a315d257d89d94520bfcaa453217d5becf09b39e73618b0de"
  }
 },
 "nbformat": 4,
 "nbformat_minor": 2,
 "cells": [
  {
   "cell_type": "code",
   "execution_count": 15,
   "metadata": {},
   "outputs": [
    {
     "output_type": "stream",
     "name": "stdout",
     "text": [
      "Enter\nMiddle\nExit: <class 'Exception'>, , <traceback object at 0x000001621087F200>\n"
     ]
    }
   ],
   "source": [
    "# mannually create a context manager\n",
    "class File:\n",
    "    def __init__(self, filename, method):\n",
    "        self.file = open(filename, method)\n",
    "\n",
    "    def __enter__(self):\n",
    "        print(\"Enter\")\n",
    "        return self.file\n",
    "    \n",
    "    def __exit__(self, type, value, traceback):\n",
    "        print(f\"Exit: {type}, {value}, {traceback}\")\n",
    "        self.file.close()\n",
    "        if type == Exception:\n",
    "            return True # gracefully handled the exception\n",
    "    \n",
    "with File(\"file.txt\", \"w\") as f:\n",
    "    print(\"Middle\")\n",
    "    f.write(\"Hello\")\n",
    "    raise Exception()"
   ]
  },
  {
   "cell_type": "code",
   "execution_count": 16,
   "metadata": {},
   "outputs": [
    {
     "output_type": "stream",
     "name": "stdout",
     "text": [
      "Enter\nmiddle\nExit\n"
     ]
    }
   ],
   "source": [
    "# using standard lib\n",
    "import contextlib\n",
    "\n",
    "@contextlib.contextmanager\n",
    "def file(filename, method):\n",
    "    print(\"Enter\")\n",
    "    file = open(filename, method)\n",
    "    yield file\n",
    "    file.close()\n",
    "    print(\"Exit\")\n",
    "\n",
    "with file(\"file.txt\", \"w\") as f:\n",
    "    print(\"middle\")\n",
    "    f.write(\"Hello\")"
   ]
  },
  {
   "cell_type": "code",
   "execution_count": null,
   "metadata": {},
   "outputs": [],
   "source": []
  }
 ]
}