{
 "metadata": {
  "language_info": {
   "codemirror_mode": {
    "name": "ipython",
    "version": 3
   },
   "file_extension": ".py",
   "mimetype": "text/x-python",
   "name": "python",
   "nbconvert_exporter": "python",
   "pygments_lexer": "ipython3",
   "version": "3.8.5"
  },
  "orig_nbformat": 4,
  "kernelspec": {
   "name": "python3",
   "display_name": "Python 3.8.5 64-bit ('base': conda)"
  },
  "interpreter": {
   "hash": "ecf5722fdaf1897a315d257d89d94520bfcaa453217d5becf09b39e73618b0de"
  }
 },
 "nbformat": 4,
 "nbformat_minor": 2,
 "cells": [
  {
   "cell_type": "code",
   "execution_count": 4,
   "metadata": {},
   "outputs": [],
   "source": [
    "class Dog:\n",
    "    def __init__(self):\n",
    "        # won't compile if there is an error during defination\n",
    "        self.bark()"
   ]
  },
  {
   "cell_type": "code",
   "execution_count": 6,
   "metadata": {},
   "outputs": [
    {
     "output_type": "error",
     "ename": "AttributeError",
     "evalue": "'Dog' object has no attribute 'bark'",
     "traceback": [
      "\u001b[1;31m---------------------------------------------------------------------------\u001b[0m",
      "\u001b[1;31mAttributeError\u001b[0m                            Traceback (most recent call last)",
      "\u001b[1;32m<ipython-input-6-2dced99f65a6>\u001b[0m in \u001b[0;36m<module>\u001b[1;34m\u001b[0m\n\u001b[1;32m----> 1\u001b[1;33m \u001b[0mDog\u001b[0m\u001b[1;33m(\u001b[0m\u001b[1;33m)\u001b[0m\u001b[1;33m\u001b[0m\u001b[1;33m\u001b[0m\u001b[0m\n\u001b[0m",
      "\u001b[1;32m<ipython-input-4-b91587bb5587>\u001b[0m in \u001b[0;36m__init__\u001b[1;34m(self)\u001b[0m\n\u001b[0;32m      2\u001b[0m     \u001b[1;32mdef\u001b[0m \u001b[0m__init__\u001b[0m\u001b[1;33m(\u001b[0m\u001b[0mself\u001b[0m\u001b[1;33m)\u001b[0m\u001b[1;33m:\u001b[0m\u001b[1;33m\u001b[0m\u001b[1;33m\u001b[0m\u001b[0m\n\u001b[0;32m      3\u001b[0m         \u001b[1;31m# won't compile if there is an error during defination\u001b[0m\u001b[1;33m\u001b[0m\u001b[1;33m\u001b[0m\u001b[1;33m\u001b[0m\u001b[0m\n\u001b[1;32m----> 4\u001b[1;33m         \u001b[0mself\u001b[0m\u001b[1;33m.\u001b[0m\u001b[0mbark\u001b[0m\u001b[1;33m(\u001b[0m\u001b[1;33m)\u001b[0m\u001b[1;33m\u001b[0m\u001b[1;33m\u001b[0m\u001b[0m\n\u001b[0m",
      "\u001b[1;31mAttributeError\u001b[0m: 'Dog' object has no attribute 'bark'"
     ]
    }
   ],
   "source": [
    "Dog()"
   ]
  },
  {
   "cell_type": "code",
   "execution_count": 13,
   "metadata": {},
   "outputs": [
    {
     "output_type": "execute_result",
     "data": {
      "text/plain": [
       "__main__.make_class.<locals>.Dog"
      ]
     },
     "metadata": {},
     "execution_count": 13
    }
   ],
   "source": [
    "def make_class(x):\n",
    "    class Dog:\n",
    "        def __init__(self, name):\n",
    "            self.name = name\n",
    "        \n",
    "        def print_value(self):\n",
    "            print(x)\n",
    "        \n",
    "    return Dog\n",
    "\n",
    "# run fine without inputting a name\n",
    "classes = make_class(10)\n",
    "classes\n"
   ]
  },
  {
   "cell_type": "code",
   "execution_count": 17,
   "metadata": {},
   "outputs": [
    {
     "output_type": "execute_result",
     "data": {
      "text/plain": [
       "'mannique'"
      ]
     },
     "metadata": {},
     "execution_count": 17
    }
   ],
   "source": [
    "d = classes(\"mannique\")\n",
    "d.name"
   ]
  },
  {
   "cell_type": "code",
   "execution_count": 16,
   "metadata": {},
   "outputs": [
    {
     "output_type": "stream",
     "name": "stdout",
     "text": [
      "10\n"
     ]
    }
   ],
   "source": [
    "d.print_value()"
   ]
  },
  {
   "cell_type": "code",
   "execution_count": 20,
   "metadata": {},
   "outputs": [
    {
     "output_type": "stream",
     "name": "stdout",
     "text": [
      "0\n2\n4\n6\n8\n10\n12\n14\n16\n18\n18\n"
     ]
    }
   ],
   "source": [
    "# def multiple functions using for loop\n",
    "for i in range(10):\n",
    "    def show():\n",
    "        print(i * 2)\n",
    "    show()\n",
    "\n",
    "show()"
   ]
  },
  {
   "cell_type": "code",
   "execution_count": 27,
   "metadata": {},
   "outputs": [
    {
     "output_type": "stream",
     "name": "stdout",
     "text": [
      "X = 1\n"
     ]
    },
    {
     "output_type": "execute_result",
     "data": {
      "text/plain": [
       "inf"
      ]
     },
     "metadata": {},
     "execution_count": 27
    }
   ],
   "source": [
    "def func(x):\n",
    "    if x == 1:\n",
    "        def rv():\n",
    "            print(\"X = 1\")\n",
    "            return float(\"inf\")\n",
    "    else:\n",
    "        def rv():\n",
    "            print(\"X != 1\")\n",
    "            return 1\n",
    "    return rv\n",
    "\n",
    "func(1)()\n"
   ]
  },
  {
   "cell_type": "code",
   "execution_count": 34,
   "metadata": {},
   "outputs": [
    {
     "output_type": "stream",
     "name": "stdout",
     "text": [
      "1935894611712\n"
     ]
    }
   ],
   "source": [
    "# get memory store address\n",
    "f = func(1)\n",
    "print(id(f))"
   ]
  },
  {
   "cell_type": "code",
   "execution_count": 39,
   "metadata": {
    "tags": [
     "outputPrepend"
    ]
   },
   "outputs": [
    {
     "output_type": "stream",
     "name": "stdout",
     "text": [
      "\\n    if x == 1:\\n        def rv():\\n            print(\"X = 1\")\\n            return float(\"inf\")\\n    else:\\n        def rv():\\n            print(\"X != 1\")\\n            return 1\\n    return rv\\n\\nfunc(2)()', 'def func(x):\\n    if x == 1:\\n        def rv():\\n            print(\"X = 1\")\\n            return float(\"inf\")\\n    else:\\n        def rv():\\n            print(\"X != 1\")\\n            return 1\\n    return rv\\n\\nfunc(2)()', 'def func(x):\\n    if x == 1:\\n        def rv():\\n            print(\"X = 1\")\\n            return float(\"inf\")\\n    else:\\n        def rv():\\n            print(\"X != 1\")\\n            return 1\\n    return rv\\n\\nfunc(1)()', 'print(id(func))', 'print(id(func()))', 'print(id(func(1)))', 'print(id(func(1)()))', 'print(id(func(1))', 'print(id(func(1)))', '# get memory store address\\nf = func(1)\\nprint(id(f))', 'import inspect\\n\\ninspect.getmembers(f)', 'import inspect\\n\\ninspect.getmembers(f)\\n\\ninspect.getsource(f)', 'inspect.getsource(f)', 'import inspect\\n\\ninspect.getmembers(f)', 'import inspect\\n\\nprint(inspect.getmembers(f))'], 'Out': {13: <class '__main__.make_class.<locals>.Dog'>, 17: 'mannique', 21: <function func.<locals>.rv at 0x000001C2BC4F8670>, 25: 1, 26: 1, 27: inf, 35: [('__annotations__', {}), ('__call__', <method-wrapper '__call__' of function object at 0x000001C2BC4F8700>), ('__class__', <class 'function'>), ('__closure__', None), ('__code__', <code object rv at 0x000001C2BBFBB500, file \"<ipython-input-27-d6c9b2d383f6>\", line 3>), ('__defaults__', None), ('__delattr__', <method-wrapper '__delattr__' of function object at 0x000001C2BC4F8700>), ('__dict__', {}), ('__dir__', <built-in method __dir__ of function object at 0x000001C2BC4F8700>), ('__doc__', None), ('__eq__', <method-wrapper '__eq__' of function object at 0x000001C2BC4F8700>), ('__format__', <built-in method __format__ of function object at 0x000001C2BC4F8700>), ('__ge__', <method-wrapper '__ge__' of function object at 0x000001C2BC4F8700>), ('__get__', <method-wrapper '__get__' of function object at 0x000001C2BC4F8700>), ('__getattribute__', <method-wrapper '__getattribute__' of function object at 0x000001C2BC4F8700>), ('__globals__', {...}), ('__gt__', <method-wrapper '__gt__' of function object at 0x000001C2BC4F8700>), ('__hash__', <method-wrapper '__hash__' of function object at 0x000001C2BC4F8700>), ('__init__', <method-wrapper '__init__' of function object at 0x000001C2BC4F8700>), ('__init_subclass__', <built-in method __init_subclass__ of type object at 0x00007FF8CE8877F0>), ('__kwdefaults__', None), ('__le__', <method-wrapper '__le__' of function object at 0x000001C2BC4F8700>), ('__lt__', <method-wrapper '__lt__' of function object at 0x000001C2BC4F8700>), ('__module__', '__main__'), ('__name__', 'rv'), ('__ne__', <method-wrapper '__ne__' of function object at 0x000001C2BC4F8700>), ('__new__', <built-in method __new__ of type object at 0x00007FF8CE8877F0>), ('__qualname__', 'func.<locals>.rv'), ('__reduce__', <built-in method __reduce__ of function object at 0x000001C2BC4F8700>), ('__reduce_ex__', <built-in method __reduce_ex__ of function object at 0x000001C2BC4F8700>), ('__repr__', <method-wrapper '__repr__' of function object at 0x000001C2BC4F8700>), ('__setattr__', <method-wrapper '__setattr__' of function object at 0x000001C2BC4F8700>), ('__sizeof__', <built-in method __sizeof__ of function object at 0x000001C2BC4F8700>), ('__str__', <method-wrapper '__str__' of function object at 0x000001C2BC4F8700>), ('__subclasshook__', <built-in method __subclasshook__ of type object at 0x00007FF8CE8877F0>)], 36: '        def rv():\\n            print(\"X = 1\")\\n            return float(\"inf\")\\n', 37: '        def rv():\\n            print(\"X = 1\")\\n            return float(\"inf\")\\n', 38: [('__annotations__', {}), ('__call__', <method-wrapper '__call__' of function object at 0x000001C2BC4F8700>), ('__class__', <class 'function'>), ('__closure__', None), ('__code__', <code object rv at 0x000001C2BBFBB500, file \"<ipython-input-27-d6c9b2d383f6>\", line 3>), ('__defaults__', None), ('__delattr__', <method-wrapper '__delattr__' of function object at 0x000001C2BC4F8700>), ('__dict__', {}), ('__dir__', <built-in method __dir__ of function object at 0x000001C2BC4F8700>), ('__doc__', None), ('__eq__', <method-wrapper '__eq__' of function object at 0x000001C2BC4F8700>), ('__format__', <built-in method __format__ of function object at 0x000001C2BC4F8700>), ('__ge__', <method-wrapper '__ge__' of function object at 0x000001C2BC4F8700>), ('__get__', <method-wrapper '__get__' of function object at 0x000001C2BC4F8700>), ('__getattribute__', <method-wrapper '__getattribute__' of function object at 0x000001C2BC4F8700>), ('__globals__', {...}), ('__gt__', <method-wrapper '__gt__' of function object at 0x000001C2BC4F8700>), ('__hash__', <method-wrapper '__hash__' of function object at 0x000001C2BC4F8700>), ('__init__', <method-wrapper '__init__' of function object at 0x000001C2BC4F8700>), ('__init_subclass__', <built-in method __init_subclass__ of type object at 0x00007FF8CE8877F0>), ('__kwdefaults__', None), ('__le__', <method-wrapper '__le__' of function object at 0x000001C2BC4F8700>), ('__lt__', <method-wrapper '__lt__' of function object at 0x000001C2BC4F8700>), ('__module__', '__main__'), ('__name__', 'rv'), ('__ne__', <method-wrapper '__ne__' of function object at 0x000001C2BC4F8700>), ('__new__', <built-in method __new__ of type object at 0x00007FF8CE8877F0>), ('__qualname__', 'func.<locals>.rv'), ('__reduce__', <built-in method __reduce__ of function object at 0x000001C2BC4F8700>), ('__reduce_ex__', <built-in method __reduce_ex__ of function object at 0x000001C2BC4F8700>), ('__repr__', <method-wrapper '__repr__' of function object at 0x000001C2BC4F8700>), ('__setattr__', <method-wrapper '__setattr__' of function object at 0x000001C2BC4F8700>), ('__sizeof__', <built-in method __sizeof__ of function object at 0x000001C2BC4F8700>), ('__str__', <method-wrapper '__str__' of function object at 0x000001C2BC4F8700>), ('__subclasshook__', <built-in method __subclasshook__ of type object at 0x00007FF8CE8877F0>)]}, 'get_ipython': <bound method InteractiveShell.get_ipython of <ipykernel.zmqshell.ZMQInteractiveShell object at 0x000001C2BA6F3D60>>, 'exit': <IPython.core.autocall.ZMQExitAutocall object at 0x000001C2BA7A8A60>, 'quit': <IPython.core.autocall.ZMQExitAutocall object at 0x000001C2BA7A8A60>, '_': [('__annotations__', {}), ('__call__', <method-wrapper '__call__' of function object at 0x000001C2BC4F8700>), ('__class__', <class 'function'>), ('__closure__', None), ('__code__', <code object rv at 0x000001C2BBFBB500, file \"<ipython-input-27-d6c9b2d383f6>\", line 3>), ('__defaults__', None), ('__delattr__', <method-wrapper '__delattr__' of function object at 0x000001C2BC4F8700>), ('__dict__', {}), ('__dir__', <built-in method __dir__ of function object at 0x000001C2BC4F8700>), ('__doc__', None), ('__eq__', <method-wrapper '__eq__' of function object at 0x000001C2BC4F8700>), ('__format__', <built-in method __format__ of function object at 0x000001C2BC4F8700>), ('__ge__', <method-wrapper '__ge__' of function object at 0x000001C2BC4F8700>), ('__get__', <method-wrapper '__get__' of function object at 0x000001C2BC4F8700>), ('__getattribute__', <method-wrapper '__getattribute__' of function object at 0x000001C2BC4F8700>), ('__globals__', {...}), ('__gt__', <method-wrapper '__gt__' of function object at 0x000001C2BC4F8700>), ('__hash__', <method-wrapper '__hash__' of function object at 0x000001C2BC4F8700>), ('__init__', <method-wrapper '__init__' of function object at 0x000001C2BC4F8700>), ('__init_subclass__', <built-in method __init_subclass__ of type object at 0x00007FF8CE8877F0>), ('__kwdefaults__', None), ('__le__', <method-wrapper '__le__' of function object at 0x000001C2BC4F8700>), ('__lt__', <method-wrapper '__lt__' of function object at 0x000001C2BC4F8700>), ('__module__', '__main__'), ('__name__', 'rv'), ('__ne__', <method-wrapper '__ne__' of function object at 0x000001C2BC4F8700>), ('__new__', <built-in method __new__ of type object at 0x00007FF8CE8877F0>), ('__qualname__', 'func.<locals>.rv'), ('__reduce__', <built-in method __reduce__ of function object at 0x000001C2BC4F8700>), ('__reduce_ex__', <built-in method __reduce_ex__ of function object at 0x000001C2BC4F8700>), ('__repr__', <method-wrapper '__repr__' of function object at 0x000001C2BC4F8700>), ('__setattr__', <method-wrapper '__setattr__' of function object at 0x000001C2BC4F8700>), ('__sizeof__', <built-in method __sizeof__ of function object at 0x000001C2BC4F8700>), ('__str__', <method-wrapper '__str__' of function object at 0x000001C2BC4F8700>), ('__subclasshook__', <built-in method __subclasshook__ of type object at 0x00007FF8CE8877F0>)], '__': '        def rv():\\n            print(\"X = 1\")\\n            return float(\"inf\")\\n', '___': '        def rv():\\n            print(\"X = 1\")\\n            return float(\"inf\")\\n', 'sys': <module 'sys' (built-in)>, 'os': <module 'os' from 'C:\\\\ProgramData\\\\Miniconda3\\\\lib\\\\os.py'>, '_i': 'import inspect\\n\\ninspect.getmembers(f)', '_ii': 'inspect.getsource(f)', '_iii': 'import inspect\\n\\ninspect.getmembers(f)\\n\\ninspect.getsource(f)', '_i1': 'class Dog:\\n    def __init__(self):\\n        self.bark()', 'Dog': <class '__main__.Dog'>, '_i2': 'd = Dog()', '_i3': 'class Dog:\\n    def __init__(self):\\n        self.bark()\\n\\nd = Dog()', '_i4': \"class Dog:\\n    def __init__(self):\\n        # won't compile if there is an error during defination\\n        self.bark()\", '_i5': 'd = Dog()', '_VSCODE_json': <module 'json' from 'C:\\\\ProgramData\\\\Miniconda3\\\\lib\\\\json\\\\__init__.py'>, '_VSCODE_builtins': <module 'builtins' (built-in)>, '_VSCODE_getVariableInfo': <function _VSCODE_getVariableInfo at 0x000001C2BC3F3700>, '_VSCODE_getVariableProperties': <function _VSCODE_getVariableProperties at 0x000001C2BC3F3550>, '_VSCODE_getVariableTypes': <function _VSCODE_getVariableTypes at 0x000001C2BC3F3790>, '_rwho_ls': ['Dog', 'classes', 'd', 'f', 'func', 'i', 'inspect', 'make_class', 'os', 'show', 'sys'], '_i6': 'Dog()', '_i7': 'def make_class(x):\\n    class Dog:\\n        def __init__(self, name):', '_i8': 'def make_class(x):\\n    class Dog:\\n        def __init__(self, name):\\n            self.name = name\\n        \\n        def print_value(self):\\n            print(x)\\n        \\n    return Dog\\n\\nclasses = make_class(10)\\nprint(classes)', 'make_class': <function make_class at 0x000001C2BC4F88B0>, 'classes': <class '__main__.make_class.<locals>.Dog'>, '_i9': 'classes.print_value()', '_i10': 'classes.print_value(1)', '_i11': 'classes.print_value(2)', '_i12': 'classes.print_value(_)', '_i13': 'def make_class(x):\\n    class Dog:\\n        def __init__(self, name):\\n            self.name = name\\n        \\n        def print_value(self):\\n            print(x)\\n        \\n    return Dog\\n\\n# run fine without inputting a name\\nclasses = make_class(10)\\nclasses', '_13': <class '__main__.make_class.<locals>.Dog'>, '_i14': 'classes.print_value(_)', '_i15': 'd = classes(\"mannique\")', 'd': <__main__.make_class.<locals>.Dog object at 0x000001C2BC23F8E0>, '_i16': 'd.print_value()', '_i17': 'd = classes(\"mannique\")\\nd.name', '_17': 'mannique', '_i18': 'for i in range(10):\\n    def show():\\n        print(i * 2)\\n\\nshow()', 'i': 9, 'show': <function show at 0x000001C2BC5154C0>, '_i19': 'for i in range(10):\\n    def show():\\n        print(i * 2)\\n\\n    show()', '_i20': 'for i in range(10):\\n    def show():\\n        print(i * 2)\\n    show()\\n\\nshow()', '_i21': 'def func(x):\\n    if x == 1:\\n        def rv():\\n            print(\"X = 1\")\\n    else:\\n        def rv():\\n            print(\"X != 1\")\\n    return rv\\n\\nfunc(1)', 'func': <function func at 0x000001C2BBF15310>, '_21': <function func.<locals>.rv at 0x000001C2BC4F8670>, '_i22': 'def func(x):\\n    if x == 1:\\n        def rv():\\n            print(\"X = 1\")\\n    else:\\n        def rv():\\n            print(\"X != 1\")\\n    return rv\\n\\nfunc(1)()', '_i23': 'def func(x):\\n    if x == 1:\\n        def rv():\\n            print(\"X = 1\")\\n    else:\\n        def rv():\\n            print(\"X != 1\")\\n    return rv\\n\\nfunc(2)()', '_i24': 'def func(x):\\n    if x == 1:\\n        def rv():\\n            print(\"X = 1\")\\n            return float(\"inf\")\\n    else:\\n        def rv():\\n            print(\"X != 1\")\\n            return 1\\n    return rv\\n\\nfunc(2)()()', '_i25': 'def func(x):\\n    if x == 1:\\n        def rv():\\n            print(\"X = 1\")\\n            return float(\"inf\")\\n    else:\\n        def rv():\\n            print(\"X != 1\")\\n            return 1\\n    return rv\\n\\nfunc(2)()', '_25': 1, '_i26': 'def func(x):\\n    if x == 1:\\n        def rv():\\n            print(\"X = 1\")\\n            return float(\"inf\")\\n    else:\\n        def rv():\\n            print(\"X != 1\")\\n            return 1\\n    return rv\\n\\nfunc(2)()', '_26': 1, '_i27': 'def func(x):\\n    if x == 1:\\n        def rv():\\n            print(\"X = 1\")\\n            return float(\"inf\")\\n    else:\\n        def rv():\\n            print(\"X != 1\")\\n            return 1\\n    return rv\\n\\nfunc(1)()', '_27': inf, '_i28': 'print(id(func))', '_i29': 'print(id(func()))', '_i30': 'print(id(func(1)))', '_i31': 'print(id(func(1)()))', '_i32': 'print(id(func(1))', '_i33': 'print(id(func(1)))', '_i34': '# get memory store address\\nf = func(1)\\nprint(id(f))', 'f': <function func.<locals>.rv at 0x000001C2BC4F8700>, '_i35': 'import inspect\\n\\ninspect.getmembers(f)', 'inspect': <module 'inspect' from 'C:\\\\ProgramData\\\\Miniconda3\\\\lib\\\\inspect.py'>, '_35': [('__annotations__', {}), ('__call__', <method-wrapper '__call__' of function object at 0x000001C2BC4F8700>), ('__class__', <class 'function'>), ('__closure__', None), ('__code__', <code object rv at 0x000001C2BBFBB500, file \"<ipython-input-27-d6c9b2d383f6>\", line 3>), ('__defaults__', None), ('__delattr__', <method-wrapper '__delattr__' of function object at 0x000001C2BC4F8700>), ('__dict__', {}), ('__dir__', <built-in method __dir__ of function object at 0x000001C2BC4F8700>), ('__doc__', None), ('__eq__', <method-wrapper '__eq__' of function object at 0x000001C2BC4F8700>), ('__format__', <built-in method __format__ of function object at 0x000001C2BC4F8700>), ('__ge__', <method-wrapper '__ge__' of function object at 0x000001C2BC4F8700>), ('__get__', <method-wrapper '__get__' of function object at 0x000001C2BC4F8700>), ('__getattribute__', <method-wrapper '__getattribute__' of function object at 0x000001C2BC4F8700>), ('__globals__', {...}), ('__gt__', <method-wrapper '__gt__' of function object at 0x000001C2BC4F8700>), ('__hash__', <method-wrapper '__hash__' of function object at 0x000001C2BC4F8700>), ('__init__', <method-wrapper '__init__' of function object at 0x000001C2BC4F8700>), ('__init_subclass__', <built-in method __init_subclass__ of type object at 0x00007FF8CE8877F0>), ('__kwdefaults__', None), ('__le__', <method-wrapper '__le__' of function object at 0x000001C2BC4F8700>), ('__lt__', <method-wrapper '__lt__' of function object at 0x000001C2BC4F8700>), ('__module__', '__main__'), ('__name__', 'rv'), ('__ne__', <method-wrapper '__ne__' of function object at 0x000001C2BC4F8700>), ('__new__', <built-in method __new__ of type object at 0x00007FF8CE8877F0>), ('__qualname__', 'func.<locals>.rv'), ('__reduce__', <built-in method __reduce__ of function object at 0x000001C2BC4F8700>), ('__reduce_ex__', <built-in method __reduce_ex__ of function object at 0x000001C2BC4F8700>), ('__repr__', <method-wrapper '__repr__' of function object at 0x000001C2BC4F8700>), ('__setattr__', <method-wrapper '__setattr__' of function object at 0x000001C2BC4F8700>), ('__sizeof__', <built-in method __sizeof__ of function object at 0x000001C2BC4F8700>), ('__str__', <method-wrapper '__str__' of function object at 0x000001C2BC4F8700>), ('__subclasshook__', <built-in method __subclasshook__ of type object at 0x00007FF8CE8877F0>)], '_i36': 'import inspect\\n\\ninspect.getmembers(f)\\n\\ninspect.getsource(f)', '_36': '        def rv():\\n            print(\"X = 1\")\\n            return float(\"inf\")\\n', '_i37': 'inspect.getsource(f)', '_37': '        def rv():\\n            print(\"X = 1\")\\n            return float(\"inf\")\\n', '_i38': 'import inspect\\n\\ninspect.getmembers(f)', '_38': [('__annotations__', {}), ('__call__', <method-wrapper '__call__' of function object at 0x000001C2BC4F8700>), ('__class__', <class 'function'>), ('__closure__', None), ('__code__', <code object rv at 0x000001C2BBFBB500, file \"<ipython-input-27-d6c9b2d383f6>\", line 3>), ('__defaults__', None), ('__delattr__', <method-wrapper '__delattr__' of function object at 0x000001C2BC4F8700>), ('__dict__', {}), ('__dir__', <built-in method __dir__ of function object at 0x000001C2BC4F8700>), ('__doc__', None), ('__eq__', <method-wrapper '__eq__' of function object at 0x000001C2BC4F8700>), ('__format__', <built-in method __format__ of function object at 0x000001C2BC4F8700>), ('__ge__', <method-wrapper '__ge__' of function object at 0x000001C2BC4F8700>), ('__get__', <method-wrapper '__get__' of function object at 0x000001C2BC4F8700>), ('__getattribute__', <method-wrapper '__getattribute__' of function object at 0x000001C2BC4F8700>), ('__globals__', {...}), ('__gt__', <method-wrapper '__gt__' of function object at 0x000001C2BC4F8700>), ('__hash__', <method-wrapper '__hash__' of function object at 0x000001C2BC4F8700>), ('__init__', <method-wrapper '__init__' of function object at 0x000001C2BC4F8700>), ('__init_subclass__', <built-in method __init_subclass__ of type object at 0x00007FF8CE8877F0>), ('__kwdefaults__', None), ('__le__', <method-wrapper '__le__' of function object at 0x000001C2BC4F8700>), ('__lt__', <method-wrapper '__lt__' of function object at 0x000001C2BC4F8700>), ('__module__', '__main__'), ('__name__', 'rv'), ('__ne__', <method-wrapper '__ne__' of function object at 0x000001C2BC4F8700>), ('__new__', <built-in method __new__ of type object at 0x00007FF8CE8877F0>), ('__qualname__', 'func.<locals>.rv'), ('__reduce__', <built-in method __reduce__ of function object at 0x000001C2BC4F8700>), ('__reduce_ex__', <built-in method __reduce_ex__ of function object at 0x000001C2BC4F8700>), ('__repr__', <method-wrapper '__repr__' of function object at 0x000001C2BC4F8700>), ('__setattr__', <method-wrapper '__setattr__' of function object at 0x000001C2BC4F8700>), ('__sizeof__', <built-in method __sizeof__ of function object at 0x000001C2BC4F8700>), ('__str__', <method-wrapper '__str__' of function object at 0x000001C2BC4F8700>), ('__subclasshook__', <built-in method __subclasshook__ of type object at 0x00007FF8CE8877F0>)], '_i39': 'import inspect\\n\\nprint(inspect.getmembers(f))'}), ('__gt__', <method-wrapper '__gt__' of function object at 0x000001C2BC4F8700>), ('__hash__', <method-wrapper '__hash__' of function object at 0x000001C2BC4F8700>), ('__init__', <method-wrapper '__init__' of function object at 0x000001C2BC4F8700>), ('__init_subclass__', <built-in method __init_subclass__ of type object at 0x00007FF8CE8877F0>), ('__kwdefaults__', None), ('__le__', <method-wrapper '__le__' of function object at 0x000001C2BC4F8700>), ('__lt__', <method-wrapper '__lt__' of function object at 0x000001C2BC4F8700>), ('__module__', '__main__'), ('__name__', 'rv'), ('__ne__', <method-wrapper '__ne__' of function object at 0x000001C2BC4F8700>), ('__new__', <built-in method __new__ of type object at 0x00007FF8CE8877F0>), ('__qualname__', 'func.<locals>.rv'), ('__reduce__', <built-in method __reduce__ of function object at 0x000001C2BC4F8700>), ('__reduce_ex__', <built-in method __reduce_ex__ of function object at 0x000001C2BC4F8700>), ('__repr__', <method-wrapper '__repr__' of function object at 0x000001C2BC4F8700>), ('__setattr__', <method-wrapper '__setattr__' of function object at 0x000001C2BC4F8700>), ('__sizeof__', <built-in method __sizeof__ of function object at 0x000001C2BC4F8700>), ('__str__', <method-wrapper '__str__' of function object at 0x000001C2BC4F8700>), ('__subclasshook__', <built-in method __subclasshook__ of type object at 0x00007FF8CE8877F0>)]\n"
     ]
    }
   ],
   "source": [
    "import inspect\n",
    "\n",
    "print(inspect.getmembers(f))"
   ]
  },
  {
   "cell_type": "code",
   "execution_count": 40,
   "metadata": {},
   "outputs": [
    {
     "output_type": "stream",
     "name": "stdout",
     "text": [
      "        def rv():\n            print(\"X = 1\")\n            return float(\"inf\")\n\n"
     ]
    }
   ],
   "source": [
    "# inspect source code\n",
    "print(inspect.getsource(f))"
   ]
  },
  {
   "cell_type": "code",
   "execution_count": 41,
   "metadata": {},
   "outputs": [
    {
     "output_type": "stream",
     "name": "stdout",
     "text": [
      "class Queue:\n    '''Create a queue object with a given maximum size.\n\n    If maxsize is <= 0, the queue size is infinite.\n    '''\n\n    def __init__(self, maxsize=0):\n        self.maxsize = maxsize\n        self._init(maxsize)\n\n        # mutex must be held whenever the queue is mutating.  All methods\n        # that acquire mutex must release it before returning.  mutex\n        # is shared between the three conditions, so acquiring and\n        # releasing the conditions also acquires and releases mutex.\n        self.mutex = threading.Lock()\n\n        # Notify not_empty whenever an item is added to the queue; a\n        # thread waiting to get is notified then.\n        self.not_empty = threading.Condition(self.mutex)\n\n        # Notify not_full whenever an item is removed from the queue;\n        # a thread waiting to put is notified then.\n        self.not_full = threading.Condition(self.mutex)\n\n        # Notify all_tasks_done whenever the number of unfinished tasks\n        # drops to zero; thread waiting to join() is notified to resume\n        self.all_tasks_done = threading.Condition(self.mutex)\n        self.unfinished_tasks = 0\n\n    def task_done(self):\n        '''Indicate that a formerly enqueued task is complete.\n\n        Used by Queue consumer threads.  For each get() used to fetch a task,\n        a subsequent call to task_done() tells the queue that the processing\n        on the task is complete.\n\n        If a join() is currently blocking, it will resume when all items\n        have been processed (meaning that a task_done() call was received\n        for every item that had been put() into the queue).\n\n        Raises a ValueError if called more times than there were items\n        placed in the queue.\n        '''\n        with self.all_tasks_done:\n            unfinished = self.unfinished_tasks - 1\n            if unfinished <= 0:\n                if unfinished < 0:\n                    raise ValueError('task_done() called too many times')\n                self.all_tasks_done.notify_all()\n            self.unfinished_tasks = unfinished\n\n    def join(self):\n        '''Blocks until all items in the Queue have been gotten and processed.\n\n        The count of unfinished tasks goes up whenever an item is added to the\n        queue. The count goes down whenever a consumer thread calls task_done()\n        to indicate the item was retrieved and all work on it is complete.\n\n        When the count of unfinished tasks drops to zero, join() unblocks.\n        '''\n        with self.all_tasks_done:\n            while self.unfinished_tasks:\n                self.all_tasks_done.wait()\n\n    def qsize(self):\n        '''Return the approximate size of the queue (not reliable!).'''\n        with self.mutex:\n            return self._qsize()\n\n    def empty(self):\n        '''Return True if the queue is empty, False otherwise (not reliable!).\n\n        This method is likely to be removed at some point.  Use qsize() == 0\n        as a direct substitute, but be aware that either approach risks a race\n        condition where a queue can grow before the result of empty() or\n        qsize() can be used.\n\n        To create code that needs to wait for all queued tasks to be\n        completed, the preferred technique is to use the join() method.\n        '''\n        with self.mutex:\n            return not self._qsize()\n\n    def full(self):\n        '''Return True if the queue is full, False otherwise (not reliable!).\n\n        This method is likely to be removed at some point.  Use qsize() >= n\n        as a direct substitute, but be aware that either approach risks a race\n        condition where a queue can shrink before the result of full() or\n        qsize() can be used.\n        '''\n        with self.mutex:\n            return 0 < self.maxsize <= self._qsize()\n\n    def put(self, item, block=True, timeout=None):\n        '''Put an item into the queue.\n\n        If optional args 'block' is true and 'timeout' is None (the default),\n        block if necessary until a free slot is available. If 'timeout' is\n        a non-negative number, it blocks at most 'timeout' seconds and raises\n        the Full exception if no free slot was available within that time.\n        Otherwise ('block' is false), put an item on the queue if a free slot\n        is immediately available, else raise the Full exception ('timeout'\n        is ignored in that case).\n        '''\n        with self.not_full:\n            if self.maxsize > 0:\n                if not block:\n                    if self._qsize() >= self.maxsize:\n                        raise Full\n                elif timeout is None:\n                    while self._qsize() >= self.maxsize:\n                        self.not_full.wait()\n                elif timeout < 0:\n                    raise ValueError(\"'timeout' must be a non-negative number\")\n                else:\n                    endtime = time() + timeout\n                    while self._qsize() >= self.maxsize:\n                        remaining = endtime - time()\n                        if remaining <= 0.0:\n                            raise Full\n                        self.not_full.wait(remaining)\n            self._put(item)\n            self.unfinished_tasks += 1\n            self.not_empty.notify()\n\n    def get(self, block=True, timeout=None):\n        '''Remove and return an item from the queue.\n\n        If optional args 'block' is true and 'timeout' is None (the default),\n        block if necessary until an item is available. If 'timeout' is\n        a non-negative number, it blocks at most 'timeout' seconds and raises\n        the Empty exception if no item was available within that time.\n        Otherwise ('block' is false), return an item if one is immediately\n        available, else raise the Empty exception ('timeout' is ignored\n        in that case).\n        '''\n        with self.not_empty:\n            if not block:\n                if not self._qsize():\n                    raise Empty\n            elif timeout is None:\n                while not self._qsize():\n                    self.not_empty.wait()\n            elif timeout < 0:\n                raise ValueError(\"'timeout' must be a non-negative number\")\n            else:\n                endtime = time() + timeout\n                while not self._qsize():\n                    remaining = endtime - time()\n                    if remaining <= 0.0:\n                        raise Empty\n                    self.not_empty.wait(remaining)\n            item = self._get()\n            self.not_full.notify()\n            return item\n\n    def put_nowait(self, item):\n        '''Put an item into the queue without blocking.\n\n        Only enqueue the item if a free slot is immediately available.\n        Otherwise raise the Full exception.\n        '''\n        return self.put(item, block=False)\n\n    def get_nowait(self):\n        '''Remove and return an item from the queue without blocking.\n\n        Only get an item if one is immediately available. Otherwise\n        raise the Empty exception.\n        '''\n        return self.get(block=False)\n\n    # Override these methods to implement other queue organizations\n    # (e.g. stack or priority queue).\n    # These will only be called with appropriate locks held\n\n    # Initialize the queue representation\n    def _init(self, maxsize):\n        self.queue = deque()\n\n    def _qsize(self):\n        return len(self.queue)\n\n    # Put a new item in the queue\n    def _put(self, item):\n        self.queue.append(item)\n\n    # Get an item from the queue\n    def _get(self):\n        return self.queue.popleft()\n\n"
     ]
    }
   ],
   "source": [
    "from queue import Queue\n",
    "\n",
    "print(inspect.getsource(Queue))"
   ]
  },
  {
   "cell_type": "code",
   "execution_count": null,
   "metadata": {},
   "outputs": [],
   "source": []
  }
 ]
}