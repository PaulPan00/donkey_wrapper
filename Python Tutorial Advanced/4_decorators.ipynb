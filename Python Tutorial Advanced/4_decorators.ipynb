{
 "metadata": {
  "language_info": {
   "codemirror_mode": {
    "name": "ipython",
    "version": 3
   },
   "file_extension": ".py",
   "mimetype": "text/x-python",
   "name": "python",
   "nbconvert_exporter": "python",
   "pygments_lexer": "ipython3",
   "version": "3.8.5"
  },
  "orig_nbformat": 4,
  "kernelspec": {
   "name": "python3",
   "display_name": "Python 3.8.5 64-bit ('base': conda)"
  },
  "interpreter": {
   "hash": "ecf5722fdaf1897a315d257d89d94520bfcaa453217d5becf09b39e73618b0de"
  }
 },
 "nbformat": 4,
 "nbformat_minor": 2,
 "cells": [
  {
   "cell_type": "code",
   "execution_count": 51,
   "metadata": {},
   "outputs": [
    {
     "output_type": "execute_result",
     "data": {
      "text/plain": [
       "(<function __main__.func.<locals>.wrapper()>,\n",
       " <function __main__.func.<locals>.wrapper()>)"
      ]
     },
     "metadata": {},
     "execution_count": 51
    }
   ],
   "source": [
    "# idea of decorators\n",
    "def func(the_function_I_want_to_input):\n",
    "    def wrapper():\n",
    "        print(\"Started\")\n",
    "        the_function_I_want_to_input()\n",
    "        print(\"Ended\")\n",
    "\n",
    "    return wrapper\n",
    "\n",
    "def func2():\n",
    "    print(\"I\\'m func2\")\n",
    "\n",
    "def func3():\n",
    "    print(\"I\\'m func3\")\n",
    "\n",
    "x = func(func2)\n",
    "y = func(func3)\n",
    "x, y"
   ]
  },
  {
   "cell_type": "code",
   "execution_count": 52,
   "metadata": {},
   "outputs": [
    {
     "output_type": "stream",
     "name": "stdout",
     "text": [
      "Started\nI'm func2\nEnded\nStarted\nI'm func3\nEnded\n"
     ]
    },
    {
     "output_type": "execute_result",
     "data": {
      "text/plain": [
       "(None, None)"
      ]
     },
     "metadata": {},
     "execution_count": 52
    }
   ],
   "source": [
    "x(), y()"
   ]
  },
  {
   "cell_type": "code",
   "execution_count": 53,
   "metadata": {},
   "outputs": [
    {
     "output_type": "stream",
     "name": "stdout",
     "text": [
      "Started\nI'm func2\nEnded\n"
     ]
    }
   ],
   "source": [
    "func2 = func(func2)\n",
    "func2()"
   ]
  },
  {
   "cell_type": "code",
   "execution_count": 54,
   "metadata": {},
   "outputs": [
    {
     "output_type": "stream",
     "name": "stdout",
     "text": [
      "Started\nOk so I'm wrapped inside this decorator\nEnded\n"
     ]
    }
   ],
   "source": [
    "# decorators\n",
    "@func\n",
    "def new_func_with_deco():\n",
    "    print(\"Ok so I'm wrapped inside this decorator\")\n",
    "\n",
    "new_func_with_deco()"
   ]
  },
  {
   "cell_type": "code",
   "execution_count": 55,
   "metadata": {},
   "outputs": [
    {
     "output_type": "stream",
     "name": "stdout",
     "text": [
      "You are being wrapped jajaja!\nNow I'm doing some serious calculations\n"
     ]
    },
    {
     "output_type": "execute_result",
     "data": {
      "text/plain": [
       "'Answer is: 18'"
      ]
     },
     "metadata": {},
     "execution_count": 55
    }
   ],
   "source": [
    "# decorators with arguments\n",
    "def outer_wrapper(the_function_I_want_to_input):\n",
    "    def inner_wrapper(*args, **kwargs):\n",
    "        print(\"You are being wrapped jajaja!\")\n",
    "\n",
    "        return the_function_I_want_to_input(*args, **kwargs)\n",
    "    return inner_wrapper\n",
    "\n",
    "@outer_wrapper\n",
    "def mul(x, y):\n",
    "    print(\"Now I'm doing some serious calculations\")\n",
    "    a = x * y\n",
    "    return \"Answer is: \" + str(a)\n",
    "\n",
    "mul(3, 6)"
   ]
  },
  {
   "cell_type": "code",
   "execution_count": 56,
   "metadata": {},
   "outputs": [
    {
     "output_type": "stream",
     "name": "stdout",
     "text": [
      "Time: 0.48241376876831055\n"
     ]
    },
    {
     "output_type": "execute_result",
     "data": {
      "text/plain": [
       "50000005000000"
      ]
     },
     "metadata": {},
     "execution_count": 56
    }
   ],
   "source": [
    "# Timing using decorators\n",
    "import time\n",
    "\n",
    "def timer(f):\n",
    "    def wrapper(*args, **kwargs):\n",
    "        start = time.time()\n",
    "        rv = f(*args, **kwargs)\n",
    "        print(f\"Time: {time.time() - start}\")\n",
    "        return rv\n",
    "    \n",
    "    return wrapper\n",
    "\n",
    "@timer\n",
    "def sum_until_with_deco(x):\n",
    "    s = 0\n",
    "    for i in range(x + 1):\n",
    "        s += i\n",
    "    return s\n",
    "\n",
    "sum_until_with_deco(10_000_000)"
   ]
  },
  {
   "cell_type": "code",
   "execution_count": 57,
   "metadata": {},
   "outputs": [
    {
     "output_type": "stream",
     "name": "stdout",
     "text": [
      "Time: 0.4834141731262207\n"
     ]
    },
    {
     "output_type": "execute_result",
     "data": {
      "text/plain": [
       "50000005000000"
      ]
     },
     "metadata": {},
     "execution_count": 57
    }
   ],
   "source": [
    "def sum_until(x):\n",
    "    s = 0\n",
    "    for i in range(x + 1):\n",
    "        s += i\n",
    "    return s\n",
    "\n",
    "timer(sum_until)(10_000_000)"
   ]
  },
  {
   "cell_type": "code",
   "execution_count": null,
   "metadata": {},
   "outputs": [],
   "source": []
  }
 ]
}