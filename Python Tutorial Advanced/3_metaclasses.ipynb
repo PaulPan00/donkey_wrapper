{
 "metadata": {
  "language_info": {
   "codemirror_mode": {
    "name": "ipython",
    "version": 3
   },
   "file_extension": ".py",
   "mimetype": "text/x-python",
   "name": "python",
   "nbconvert_exporter": "python",
   "pygments_lexer": "ipython3",
   "version": "3.8.5"
  },
  "orig_nbformat": 4,
  "kernelspec": {
   "name": "python3",
   "display_name": "Python 3.8.5 64-bit ('base': conda)"
  },
  "interpreter": {
   "hash": "ecf5722fdaf1897a315d257d89d94520bfcaa453217d5becf09b39e73618b0de"
  }
 },
 "nbformat": 4,
 "nbformat_minor": 2,
 "cells": [
  {
   "cell_type": "code",
   "execution_count": 69,
   "metadata": {},
   "outputs": [
    {
     "output_type": "execute_result",
     "data": {
      "text/plain": [
       "<__main__.hello.<locals>.Hi at 0x1fcd695a6d0>"
      ]
     },
     "metadata": {},
     "execution_count": 69
    }
   ],
   "source": [
    "def hello():\n",
    "    class Hi:\n",
    "        pass\n",
    "\n",
    "    return Hi\n",
    "\n",
    "hello()()"
   ]
  },
  {
   "cell_type": "code",
   "execution_count": 70,
   "metadata": {},
   "outputs": [
    {
     "output_type": "stream",
     "name": "stdout",
     "text": [
      "AJ\n"
     ]
    },
    {
     "output_type": "execute_result",
     "data": {
      "text/plain": [
       "False"
      ]
     },
     "metadata": {},
     "execution_count": 70
    }
   ],
   "source": [
    "# using `type` to define a class on the fly\n",
    "class Foo:\n",
    "    def show(self):\n",
    "        print(\"Hi\")\n",
    "\n",
    "def goof_ball(self, n):\n",
    "    self.n = n\n",
    "\n",
    "def get_goof(self):\n",
    "    print(self.n)\n",
    "    return False\n",
    "\n",
    "clss = type(\"random_class\", (Foo,), {\"__init__\": goof_ball, \"out\": get_goof, \"x\": 1})\n",
    "c = clss(\"AJ\")\n",
    "c.out()\n"
   ]
  },
  {
   "cell_type": "code",
   "execution_count": 71,
   "metadata": {},
   "outputs": [
    {
     "output_type": "execute_result",
     "data": {
      "text/plain": [
       "('AJ', 1)"
      ]
     },
     "metadata": {},
     "execution_count": 71
    }
   ],
   "source": [
    "c.n, c.x"
   ]
  },
  {
   "cell_type": "code",
   "execution_count": 72,
   "metadata": {},
   "outputs": [
    {
     "output_type": "stream",
     "name": "stdout",
     "text": [
      "Hi\n"
     ]
    }
   ],
   "source": [
    "c.show()"
   ]
  },
  {
   "cell_type": "code",
   "execution_count": 73,
   "metadata": {},
   "outputs": [
    {
     "output_type": "stream",
     "name": "stdout",
     "text": [
      "{'__module__': '__main__', '__qualname__': 'Dog', 'x': 1, 'y': 2, 'hello': <function Dog.hello at 0x000001FCD78380D0>}\n"
     ]
    }
   ],
   "source": [
    "# Metaclasses is ABOVE the class we usually created (very complicated)\n",
    "\n",
    "class Meta(type):\n",
    "    def __new__(self, class_name: str, bases: type, attributes: dict) -> type:\n",
    "        # called when object is created before __init__\n",
    "\n",
    "        print(attributes)\n",
    "\n",
    "        a = {}\n",
    "        # change everything to uppercase\n",
    "        for name, val in attributes.items():\n",
    "            if name.startswith(\"__\"):\n",
    "                a[name] = val\n",
    "            else:\n",
    "                a[name.upper()] = val\n",
    "\n",
    "        # print(a)\n",
    "        return type(class_name, bases, a)\n",
    "\n",
    "class Dog(metaclass=Meta):\n",
    "    x = 1\n",
    "    y = 2\n",
    "\n",
    "    def hello(self):\n",
    "        print(\"Hi\")\n",
    "\n",
    "\n",
    "d = Dog()"
   ]
  },
  {
   "cell_type": "code",
   "execution_count": 74,
   "metadata": {},
   "outputs": [
    {
     "output_type": "execute_result",
     "data": {
      "text/plain": [
       "1"
      ]
     },
     "metadata": {},
     "execution_count": 74
    }
   ],
   "source": [
    "d.X"
   ]
  },
  {
   "cell_type": "code",
   "execution_count": 75,
   "metadata": {},
   "outputs": [
    {
     "output_type": "stream",
     "name": "stdout",
     "text": [
      "Hi\n"
     ]
    }
   ],
   "source": [
    "d.HELLO()"
   ]
  },
  {
   "cell_type": "code",
   "execution_count": null,
   "metadata": {},
   "outputs": [],
   "source": []
  }
 ]
}