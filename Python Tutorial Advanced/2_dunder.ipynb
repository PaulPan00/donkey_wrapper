{
 "metadata": {
  "language_info": {
   "codemirror_mode": {
    "name": "ipython",
    "version": 3
   },
   "file_extension": ".py",
   "mimetype": "text/x-python",
   "name": "python",
   "nbconvert_exporter": "python",
   "pygments_lexer": "ipython3",
   "version": "3.8.5"
  },
  "orig_nbformat": 4,
  "kernelspec": {
   "name": "python3",
   "display_name": "Python 3.8.5 64-bit ('base': conda)"
  },
  "interpreter": {
   "hash": "ecf5722fdaf1897a315d257d89d94520bfcaa453217d5becf09b39e73618b0de"
  }
 },
 "nbformat": 4,
 "nbformat_minor": 2,
 "cells": [
  {
   "cell_type": "code",
   "execution_count": 1,
   "metadata": {},
   "outputs": [
    {
     "output_type": "stream",
     "name": "stdout",
     "text": [
      "This dude is CJ\n"
     ]
    }
   ],
   "source": [
    "# modify dunder methods\n",
    "class Person:\n",
    "    def __init__(self, name):\n",
    "        self.name = name\n",
    "\n",
    "    def __repr__(self):\n",
    "        return f\"This dude is {self.name}\"\n",
    "    \n",
    "    def __mul__(self, some_int):\n",
    "        if type(some_int) is not int:\n",
    "            raise TypeError(\"You need to put int here?!\")\n",
    "\n",
    "        self.name = self.name * some_int\n",
    "        return self.name\n",
    "    \n",
    "    def __call__(self, some_random_inputs):\n",
    "        return some_random_inputs\n",
    "\n",
    "    def __len__(self):\n",
    "        return len(self.name)\n",
    "    \n",
    "p = Person(\"CJ\")\n",
    "print(p)"
   ]
  },
  {
   "cell_type": "code",
   "execution_count": 2,
   "metadata": {},
   "outputs": [
    {
     "output_type": "execute_result",
     "data": {
      "text/plain": [
       "'CJCJCJCJCJ'"
      ]
     },
     "metadata": {},
     "execution_count": 2
    }
   ],
   "source": [
    "p * 5"
   ]
  },
  {
   "cell_type": "code",
   "execution_count": 3,
   "metadata": {},
   "outputs": [
    {
     "output_type": "stream",
     "name": "stdout",
     "text": [
      "adad 10\n"
     ]
    }
   ],
   "source": [
    "print(p(\"adad\"), len(p))"
   ]
  },
  {
   "cell_type": "code",
   "execution_count": 4,
   "metadata": {},
   "outputs": [
    {
     "output_type": "execute_result",
     "data": {
      "text/plain": [
       "Queue(0)"
      ]
     },
     "metadata": {},
     "execution_count": 4
    }
   ],
   "source": [
    "# some more implementation\n",
    "from queue import Queue as q\n",
    "import inspect\n",
    "\n",
    "class Queue(q):\n",
    "    def __repr__(self):\n",
    "        return f\"Queue({self._qsize()})\"\n",
    "    \n",
    "    def __add__(self, item):\n",
    "        self.put(item)\n",
    "    \n",
    "    def __sub__(self, item):\n",
    "        self.get()\n",
    "\n",
    "qq = Queue()\n",
    "qq + 1\n",
    "qq - 1\n",
    "qq"
   ]
  },
  {
   "cell_type": "code",
   "execution_count": null,
   "metadata": {},
   "outputs": [],
   "source": []
  }
 ]
}